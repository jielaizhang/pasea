{
 "cells": [
  {
   "cell_type": "code",
   "execution_count": 50,
   "metadata": {
    "ExecuteTime": {
     "end_time": "2019-08-27T23:25:10.598184Z",
     "start_time": "2019-08-27T23:25:10.592591Z"
    }
   },
   "outputs": [],
   "source": [
    "import warnings\n",
    "warnings.filterwarnings('ignore')\n",
    "\n",
    "import glob\n",
    "import numpy as np\n",
    "\n",
    "from photutils import Background2D, SExtractorBackground\n",
    "from photutils import DAOStarFinder\n",
    "from photutils import CircularAperture,aperture_photometry\n",
    "from photutils.utils import calc_total_error\n",
    "\n",
    "import astropy.wcs as wcs\n",
    "from astropy.io import fits\n",
    "from astropy.stats import sigma_clipped_stats, SigmaClip\n",
    "\n",
    "import matplotlib.pyplot as plt\n",
    "from astropy.visualization import ZScaleInterval"
   ]
  },
  {
   "cell_type": "code",
   "execution_count": 51,
   "metadata": {},
   "outputs": [],
   "source": [
    "# Load in all of the fits images in the directory and sort it\n",
    "\n",
    "image_list = glob.glob(\"/Users/hwhite/Dropbox/Testdata_Target_E/ASASJ030015-0459.7_20190913_B/*e91.fits.fz\")\n",
    "image_list.sort()"
   ]
  },
  {
   "cell_type": "code",
   "execution_count": 52,
   "metadata": {},
   "outputs": [],
   "source": [
    "#Make some useful lists of values to track/record\n",
    "obstime = []\n",
    "Bmag = []\n",
    "Vmag = []\n",
    "Bmag_e = []\n",
    "Vmag_e = []\n",
    "avg_offset = []"
   ]
  },
  {
   "cell_type": "code",
   "execution_count": 53,
   "metadata": {},
   "outputs": [],
   "source": [
    "# Input the information for the calibration stars identified\n",
    "# in the previous notebook for batch processing of all of the images\n",
    "\n",
    "zpt_instrumental = 25.\n",
    "\n",
    "tar_ra = 45.064\n",
    "tar_dec = -4.995\n",
    "tar_color = 'yellow'\n",
    "ref_ra = [44.93200, 45.00766, 45.11216, 45.12369]\n",
    "ref_dec = [-5.03533, -4.79669, -4.91007, -4.93852]\n",
    "ref_colors = ['red','cyan', 'green', 'blue']\n",
    "ref_mag = [11.275, 12.093, 13.005, 14.65]"
   ]
  },
  {
   "cell_type": "code",
   "execution_count": 54,
   "metadata": {
    "ExecuteTime": {
     "end_time": "2019-08-27T22:35:45.652405Z",
     "start_time": "2019-08-27T22:35:45.649184Z"
    }
   },
   "outputs": [
    {
     "name": "stdout",
     "output_type": "stream",
     "text": [
      "       mag        \n",
      "------------------\n",
      "12.885259132969358\n",
      "       mag        \n",
      "------------------\n",
      "12.647057870571173\n",
      "       mag        \n",
      "------------------\n",
      "12.476001011691249\n",
      "      mag       \n",
      "----------------\n",
      "12.4801069099463\n",
      "       mag        \n",
      "------------------\n",
      "12.542094201801913\n",
      "       mag        \n",
      "------------------\n",
      "12.634746791898166\n",
      "       mag        \n",
      "------------------\n",
      "13.078451316731654\n",
      "       mag        \n",
      "------------------\n",
      "12.943382514893724\n",
      "       mag        \n",
      "------------------\n",
      "13.097665334267893\n",
      "       mag        \n",
      "------------------\n",
      "13.173636039448036\n",
      "       mag        \n",
      "------------------\n",
      "13.177104809283131\n",
      "       mag       \n",
      "-----------------\n",
      "13.14205315462597\n",
      "       mag        \n",
      "------------------\n",
      "13.077486087872078\n"
     ]
    }
   ],
   "source": [
    "# Let's calculate the target mag in each frame\n",
    "\n",
    "for frame in image_list:\n",
    "    hdu = fits.open(frame)\n",
    "\n",
    "    # Grab the actual science data based on above.\n",
    "    sci_data = hdu[1]\n",
    "    sci_hdr = sci_data.header\n",
    "    obstime.append(sci_hdr['UTSTART'])\n",
    "\n",
    "    # Background estimation:\n",
    "    sigma_clip = SigmaClip(sigma=3.) # Sigma clip bright obvious things to avoid biasing the background estimate\n",
    "    bkg_estimator = SExtractorBackground() # Apply the SExtractor algorithm to our estimation\n",
    "    bkg = Background2D(\n",
    "        sci_data.data, (50, 50),\n",
    "        filter_size=(3, 3),\n",
    "        sigma_clip=sigma_clip,\n",
    "        bkg_estimator=bkg_estimator)\n",
    "\n",
    "    # Now let's subtract the background from the data\n",
    "    sci_bkg = sci_data.data - bkg.background\n",
    "\n",
    "    # Define an error image that will be used when calculating photometry\n",
    "    effective_gain = 1.\n",
    "    error = calc_total_error(sci_bkg, bkg.background_rms, effective_gain)\n",
    "\n",
    "    # Actually do the photometry and put it in a table.\n",
    "    # Using the WCS info from each img's header, calculate positions of the calibration stars\n",
    "    w = wcs.WCS(sci_hdr)\n",
    "    ref_xcoords, ref_ycoords = w.all_world2pix(ref_ra,ref_dec,1)\n",
    "    ref_positions = np.transpose((ref_xcoords, ref_ycoords))\n",
    "    ref_apertures = CircularAperture(ref_positions, r=24.)\n",
    "    ref_phot = aperture_photometry(sci_bkg, ref_apertures, error=error)\n",
    "    \n",
    "    # NOTE. By default photutils just actually gives a total number of counts in the apertures, not a magnitude.\n",
    "    # Calculate instrumental magnitudes here and add them to the table \n",
    "    # Magnitudes will be calibrated with standard stars below.\n",
    "\n",
    "    mag = -2.5*np.log10(ref_phot['aperture_sum']) + zpt_instrumental\n",
    "    dmag = (2.5/np.log(10))*(ref_phot['aperture_sum_err']/ref_phot['aperture_sum'])\n",
    "    \n",
    "    ref_phot['mag'] = mag\n",
    "    ref_phot['mag_err'] = dmag\n",
    "\n",
    "    # Calibrate the photometry\n",
    "    # Calculate zeropoint/offsets based on a set of standard stars.\n",
    "    mag_measured = mag\n",
    "    mag_known = src_mag\n",
    "\n",
    "    # Calculate offsets and the standard deviation of the offset from each star.\n",
    "    offsets = mag_known - mag_measured\n",
    "    offset = np.mean(offsets)\n",
    "    avg_offset.append(offset)\n",
    "    doffset = np.std(offsets)\n",
    "    \n",
    "    # Do photometry on the variable target!!\n",
    "    tar_xcoord, tar_ycoord  = w.all_world2pix(tar_ra,tar_dec,1)\n",
    "    tar_position = np.transpose((tar_xcoord, tar_ycoord))\n",
    "    \n",
    "    tar_aperture = CircularAperture(tar_position, r=24.)\n",
    "    tar_phot = aperture_photometry(sci_bkg, tar_aperture, error=error)\n",
    "    \n",
    "    tar_mag = -2.5*np.log10(tar_phot['aperture_sum']) + zpt_instrumental\n",
    "    tar_dmag = (2.5/np.log(10))*(tar_phot['aperture_sum_err']/tar_phot['aperture_sum'])\n",
    "    \n",
    "    tar_phot['mag'] = tar_mag\n",
    "    tar_phot['mag_err'] = tar_dmag\n",
    "    \n",
    "    cal_tar_mag = tar_phot['mag']+offset\n",
    "    cal_tar_dmag = np.sqrt(tar_phot['mag_err']**2.+doffset**2.)\n",
    "    \n",
    "    Bmag.append(cal_tar_mag)\n",
    "    Bmag_e.append(cal_tar_dmag)\n",
    "    \n",
    "    print(cal_tar_mag)"
   ]
  },
  {
   "cell_type": "code",
   "execution_count": 55,
   "metadata": {},
   "outputs": [
    {
     "data": {
      "image/png": "[encoded data removed]",
      "text/plain": [
       "<Figure size 432x288 with 1 Axes>"
      ]
     },
     "metadata": {
      "needs_background": "light"
     },
     "output_type": "display_data"
    }
   ],
   "source": [
    "# # Make a rudimentary lightcurve\n",
    "plt.plot(Bmag)\n",
    "plt.show()"
   ]
  },
  {
   "cell_type": "code",
   "execution_count": null,
   "metadata": {},
   "outputs": [],
   "source": []
  }
 ],
 "metadata": {
  "kernelspec": {
   "display_name": "Python 3",
   "language": "python",
   "name": "python3"
  },
  "language_info": {
   "codemirror_mode": {
    "name": "ipython",
    "version": 3
   },
   "file_extension": ".py",
   "mimetype": "text/x-python",
   "name": "python",
   "nbconvert_exporter": "python",
   "pygments_lexer": "ipython3",
   "version": "3.7.3"
  },
  "toc": {
   "base_numbering": 1,
   "nav_menu": {},
   "number_sections": true,
   "sideBar": true,
   "skip_h1_title": false,
   "title_cell": "Table of Contents",
   "title_sidebar": "Contents",
   "toc_cell": false,
   "toc_position": {},
   "toc_section_display": true,
   "toc_window_display": false
  }
 },
 "nbformat": 4,
 "nbformat_minor": 2
}
