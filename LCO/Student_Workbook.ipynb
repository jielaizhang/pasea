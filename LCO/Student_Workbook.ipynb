{
 "cells": [
  {
   "cell_type": "code",
   "execution_count": 2,
   "metadata": {
    "ExecuteTime": {
     "end_time": "2019-08-27T23:25:10.598184Z",
     "start_time": "2019-08-27T23:25:10.592591Z"
    }
   },
   "outputs": [],
   "source": [
    "import warnings\n",
    "warnings.filterwarnings('ignore')\n",
    "\n",
    "import glob\n",
    "import numpy as np\n",
    "\n",
    "from photutils import Background2D, SExtractorBackground\n",
    "from photutils import DAOStarFinder\n",
    "from photutils import CircularAperture,aperture_photometry\n",
    "from photutils.utils import calc_total_error\n",
    "\n",
    "import astropy.wcs as wcs\n",
    "from astropy.io import fits\n",
    "from astropy.stats import sigma_clipped_stats, SigmaClip\n",
    "from astropy.nddata.utils import Cutout2D\n",
    "from astropy import units as u\n",
    "\n",
    "import matplotlib.pyplot as plt\n",
    "from astropy.visualization import ZScaleInterval"
   ]
  },
  {
   "cell_type": "code",
   "execution_count": 3,
   "metadata": {},
   "outputs": [],
   "source": [
    "mypath = '/Users/jielaizhang/Desktop/waissya/Testdata_Target_E/ASASJ030015-0459.7_20190913_B/'\n",
    "outmoviename='mymovie.gif'"
   ]
  },
  {
   "cell_type": "code",
   "execution_count": 5,
   "metadata": {},
   "outputs": [],
   "source": [
    "# Determine the full path of all exposures on this target in the B-band\n",
    "\n",
    "# Print the file paths to check they are ok\n"
   ]
  },
  {
   "cell_type": "code",
   "execution_count": null,
   "metadata": {},
   "outputs": [],
   "source": [
    "# Identify the star that you wanted to observe by opening the image in ds9 \n",
    "# by finding the star with the matching RA and DEC\n",
    "# Write down the RA and DEC of your target star here\n",
    "# Check that the star is not saturated.\n",
    "\n",
    "target_RA  = 0.0\n",
    "target_DEC = 0.0"
   ]
  },
  {
   "cell_type": "code",
   "execution_count": 5,
   "metadata": {},
   "outputs": [],
   "source": [
    "# By looking at one of the exposures in ds9, identify 4-8 round, bright stars that are not saturated \n",
    "# to use as ref stars.\n",
    "# Write down their RA, DEC below in a list\n",
    "\n",
    "ref_ra = []\n",
    "ref_dec = []"
   ]
  },
  {
   "cell_type": "code",
   "execution_count": 1,
   "metadata": {},
   "outputs": [],
   "source": [
    "# Download the APASS catalog of this region of the sky from here: https://www.aavso.org/apass-dr10-download\n",
    "# Identify which sources on the APASS catalog match the RA and DEC of your selected reference stars\n",
    "# Write down the magnitude of your selected reference stars below in a list\n",
    "\n",
    "ref_mag = []"
   ]
  },
  {
   "cell_type": "code",
   "execution_count": null,
   "metadata": {},
   "outputs": [],
   "source": [
    "# Plot the whole image with the reference star and target star marked to see if it all looks ok\n"
   ]
  },
  {
   "cell_type": "code",
   "execution_count": 6,
   "metadata": {},
   "outputs": [],
   "source": [
    "# Write a function that outputs the magnitude of a source, and its error.\n",
    "# Hint: this function will require input of the data, data fits file header, background error, \n",
    "# and ra and dec of the source\n",
    "\n",
    "def do_phot_get_mag(?):\n",
    "\n",
    "    ?\n",
    "    \n",
    "    return mag,mag_err"
   ]
  },
  {
   "cell_type": "code",
   "execution_count": 7,
   "metadata": {},
   "outputs": [],
   "source": [
    "# Write a function that given input data, ra and dec, outputs a small cutout of the big image of size 120x120 pixels.\n",
    "# This function has been written for you. \n",
    "\n",
    "def make_cutout(?c):\n",
    "\n",
    "    w = wcs.WCS(hdr)\n",
    "    xcoord, ycoord = w.all_world2pix(ra,dec,1)\n",
    "    position = np.transpose((xcoord, ycoord))\n",
    "    size = u.Quantity([120, 120], u.pixel)\n",
    "    cutout = Cutout2D(data, position, size, wcs=w, mode='strict')\n",
    "\n",
    "    cutout_wcs = cutout.wcs\n",
    "    header = cutout_wcs.to_header()\n",
    "    hdu = fits.PrimaryHDU(data=cutout.data, header=header)\n",
    "\n",
    "    return hdu"
   ]
  },
  {
   "cell_type": "code",
   "execution_count": 3,
   "metadata": {},
   "outputs": [],
   "source": [
    "# Try to calcualte the magnitude of the target star in one frame. \n",
    "# 1. Open the frame and read out the data, header and time of observation\n",
    "# 2. Get the background of the image and subtract it; Calculate the error associated with the background.\n",
    "# 3. For the target star and each reference star, carry out photometry. Be sure to use the background subtracted image.\n",
    "#    This step should output an error of the photmetry measurement. \n",
    "# 4. Find the magnitude offset between the reference stars and the catalog magnitudes \n",
    "#    and calculate the magnitude of the target star, and its error. "
   ]
  },
  {
   "cell_type": "code",
   "execution_count": null,
   "metadata": {},
   "outputs": [],
   "source": [
    "# Once you can do photometry on one frame, write a loop to do it on all the frames for a single wavelength band.\n",
    "# The loop should save the magnitude of the star, its error, and the time of observation\n",
    "\n"
   ]
  },
  {
   "cell_type": "code",
   "execution_count": 4,
   "metadata": {},
   "outputs": [],
   "source": [
    "# # Make a rudimentary lightcurve, which is the time of observation, versus the magnitude of the target star. \n",
    "\n"
   ]
  },
  {
   "cell_type": "code",
   "execution_count": 10,
   "metadata": {},
   "outputs": [],
   "source": [
    "# Now you can make a copy of this workbook and do the same thing for the other wavelength band."
   ]
  },
  {
   "cell_type": "code",
   "execution_count": null,
   "metadata": {},
   "outputs": [],
   "source": []
  }
 ],
 "metadata": {
  "kernelspec": {
   "display_name": "Python 3",
   "language": "python",
   "name": "python3"
  },
  "language_info": {
   "codemirror_mode": {
    "name": "ipython",
    "version": 3
   },
   "file_extension": ".py",
   "mimetype": "text/x-python",
   "name": "python",
   "nbconvert_exporter": "python",
   "pygments_lexer": "ipython3",
   "version": "3.6.5"
  },
  "toc": {
   "base_numbering": 1,
   "nav_menu": {},
   "number_sections": true,
   "sideBar": true,
   "skip_h1_title": false,
   "title_cell": "Table of Contents",
   "title_sidebar": "Contents",
   "toc_cell": false,
   "toc_position": {},
   "toc_section_display": true,
   "toc_window_display": false
  }
 },
 "nbformat": 4,
 "nbformat_minor": 2
}
