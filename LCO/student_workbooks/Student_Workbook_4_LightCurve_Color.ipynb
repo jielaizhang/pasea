{
 "cells": [
  {
   "cell_type": "code",
   "execution_count": null,
   "metadata": {},
   "outputs": [],
   "source": [
    "import numpy as np\n",
    "import matplotlib.pyplot as plt"
   ]
  },
  {
   "cell_type": "code",
   "execution_count": null,
   "metadata": {},
   "outputs": [],
   "source": [
    "B      = [13.500135644090706, 13.476877165256536, 13.439178837110324, 13.449750668214465, 13.340426793161706, 13.194476233214022, 12.926683655401192, 12.686560483801696, 12.53783811915576, 12.50163439909866, 12.520840201843313, 12.719884470445528, 12.805823634492786, 12.976070656196018]\n",
    "B_time = [58785.7768208, 58785.7847028, 58785.8014759, 58785.8182422, 58785.8379253, 58785.8514528, 58785.8685614, 58785.8847203, 58785.9059209, 58785.9247225, 58785.9367772, 58785.9685886, 58785.9892561, 58786.0258944]\n",
    "B_err  =[0.05728951586209083, 0.04649473931298224, 0.06393189536222181, 0.057722415457536654, 0.05566180300865008, 0.057247371434522965, 0.06202443577837847, 0.05341330412146401, 0.09249282458779627, 0.046979264186666266, 0.052660163941882644, 0.06897475269121654, 0.035772816519598225, 0.05139756792008375]\n",
    "B      = np.array(B)\n",
    "B_time = np.array(B_time)\n",
    "B_err  = np.array(B_err)\n",
    "\n",
    "V      = [13.06794778771408, 13.076819953416416, 13.071810765514337, 13.054030829132127, 12.99070366676846, 12.913166485526064, 12.717839219769125, 12.508869985641383, 12.400280721142389, 12.331952029434573, 12.349741612884225, 12.476551170970415, 12.55740777274385, 12.693678972681914]\n",
    "V_time = [58785.7755574, 58785.7834394, 58785.8002008, 58785.8169787, 58785.8366615, 58785.8501892, 58785.8672979, 58785.8834338, 58785.9046575, 58785.9234591, 58785.9355138, 58785.9673368, 58785.9879928, 58786.0246351]\n",
    "V_err  = [0.02330097097686329, 0.027758941409592768, 0.031376810608154504, 0.037332131916000336, 0.03494334025426079, 0.03542805416421811, 0.039692133848045784, 0.041924535465109186, 0.049298898907470794, 0.04988110942744834, 0.023087656368728306, 0.013429377572518442, 0.022096928829722553, 0.049819048495553964]\n",
    "V      = np.array(V)\n",
    "V_time = np.array(V_time)\n",
    "V_err  = np.array(V_err)\n",
    "\n",
    "print(len(B))\n",
    "print(len(V))"
   ]
  },
  {
   "cell_type": "code",
   "execution_count": null,
   "metadata": {},
   "outputs": [],
   "source": [
    "# # Make a rudimentary lightcurve for B, V, identify which element is extra in V, and remove for color plot.\n",
    "\n",
    "#plt.figure()\n",
    "fig, ax = plt.subplots(figsize=(10.5, 7))\n",
    "ax.errorbar(V_time,V,xerr=None,yerr=V_err, fmt='go', capsize=9.0,label='V')\n",
    "ax.errorbar(B_time,B,xerr=None,yerr=B_err, fmt='bo', capsize=9.0,label='B')\n",
    "\n",
    "ax.set_xlabel('MJD', fontsize=18)\n",
    "ax.set_ylabel('B Magnitude', fontsize=18)\n",
    "ax.legend(loc='upper left')\n",
    "ax=plt.gca()\n",
    "ax.set_ylim(ax.get_ylim()[::-1])\n",
    "plt.show()"
   ]
  },
  {
   "cell_type": "code",
   "execution_count": null,
   "metadata": {},
   "outputs": [],
   "source": [
    "print('Max time diff between B, V observations is: {}'.format(max(B_time-V_time)))\n",
    "VB     = V-B\n",
    "VB_err = V_err"
   ]
  },
  {
   "cell_type": "code",
   "execution_count": null,
   "metadata": {},
   "outputs": [],
   "source": [
    "# # Make a rudimentary lightcurve\n",
    "\n",
    "#plt.figure()\n",
    "fig, ax = plt.subplots(figsize=(10.5, 7))\n",
    "ax.errorbar(V_time,V,xerr=None,yerr=V_err, fmt='go', capsize=9.0,label='V')\n",
    "ax.errorbar(B_time,B,xerr=None,yerr=B_err, fmt='bo', capsize=9.0,label='B')\n",
    "ax=plt.gca()\n",
    "ax.set_ylim(ax.get_ylim()[::-1])\n",
    "ax2     = ax.twinx()\n",
    "ax2.errorbar(B_time,VB,xerr=None,yerr=VB_err,fmt='kx',markersize=10,label='V-B') # Larger number = bluer\n",
    "\n",
    "ax.set_xlabel('MJD', fontsize=18)\n",
    "ax.set_ylabel('B Magnitude', fontsize=18)\n",
    "ax2.set_ylabel('V-B color', fontsize=18)\n",
    "ax.legend(loc='upper left')\n",
    "ax2.legend(loc='upper right')\n",
    "\n",
    "plt.show()"
   ]
  },
  {
   "cell_type": "code",
   "execution_count": null,
   "metadata": {},
   "outputs": [],
   "source": []
  }
 ],
 "metadata": {
  "kernelspec": {
   "display_name": "Python 3",
   "language": "python",
   "name": "python3"
  },
  "language_info": {
   "codemirror_mode": {
    "name": "ipython",
    "version": 3
   },
   "file_extension": ".py",
   "mimetype": "text/x-python",
   "name": "python",
   "nbconvert_exporter": "python",
   "pygments_lexer": "ipython3",
   "version": "3.6.5"
  }
 },
 "nbformat": 4,
 "nbformat_minor": 2
}
