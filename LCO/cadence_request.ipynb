{
 "cells": [
  {
   "cell_type": "code",
   "execution_count": 1,
   "metadata": {},
   "outputs": [],
   "source": [
    "import requests"
   ]
  },
  {
   "cell_type": "markdown",
   "metadata": {},
   "source": [
    "Set up your API token from your profile on observation portal"
   ]
  },
  {
   "cell_type": "code",
   "execution_count": 2,
   "metadata": {},
   "outputs": [],
   "source": [
    "API_TOKEN = 'XXX'\n",
    "PROPOSAL_ID = 'XXX'"
   ]
  },
  {
   "cell_type": "code",
   "execution_count": 3,
   "metadata": {},
   "outputs": [],
   "source": [
    "cadence = {\n",
    "    'start': '2019-10-01 00:00:00',\n",
    "    'end': '2019-10-04 00:00:00',\n",
    "    'period': 24,\n",
    "    'jitter': 12.0\n",
    "}"
   ]
  },
  {
   "cell_type": "code",
   "execution_count": 4,
   "metadata": {},
   "outputs": [],
   "source": [
    "target = {\n",
    "    'name': 'NGC891',\n",
    "    'type': 'ICRS',\n",
    "    'ra': 35.6371125,\n",
    "    'dec': 42.3483194,\n",
    "    'epoch': 2000\n",
    "}"
   ]
  },
  {
   "cell_type": "code",
   "execution_count": 5,
   "metadata": {},
   "outputs": [],
   "source": [
    "constraints = {\n",
    "    'max_airmass': 1.6,\n",
    "    'min_lunar_distance': 30\n",
    "}"
   ]
  },
  {
   "cell_type": "code",
   "execution_count": 6,
   "metadata": {},
   "outputs": [],
   "source": [
    "configurations = [\n",
    "    {\n",
    "        'type': 'EXPOSE',\n",
    "        'instrument_type': '0M4-SCICAM-SBIG',\n",
    "        'target': target,\n",
    "        'constraints': constraints,\n",
    "        'acquisition_config': {},\n",
    "        'guiding_config': {},\n",
    "        'instrument_configs': [\n",
    "            {\n",
    "                'exposure_time': 30,\n",
    "                'exposure_count': 1,\n",
    "                'optical_elements': {\n",
    "                    'filter': 'v'\n",
    "                }\n",
    "            }\n",
    "        ]\n",
    "    },\n",
    "    {\n",
    "        'type': 'EXPOSE',\n",
    "        'instrument_type': '0M4-SCICAM-SBIG',\n",
    "        'target': target,\n",
    "        'constraints': constraints,\n",
    "        'acquisition_config': {},\n",
    "        'guiding_config': {},\n",
    "        'instrument_configs': [\n",
    "            {\n",
    "                'exposure_time': 30,\n",
    "                'exposure_count': 1,\n",
    "                'optical_elements': {\n",
    "                    'filter': 'b'\n",
    "                }\n",
    "            }\n",
    "        ]\n",
    "    }\n",
    "]"
   ]
  },
  {
   "cell_type": "code",
   "execution_count": 7,
   "metadata": {},
   "outputs": [],
   "source": [
    "# We do not provide windows for a cadence request\n",
    "windows = []\n",
    "\n",
    "# The telescope class that should be used for this observation\n",
    "location = {\n",
    "    'telescope_class': '0m4'\n",
    "}"
   ]
  },
  {
   "cell_type": "code",
   "execution_count": 8,
   "metadata": {},
   "outputs": [],
   "source": [
    "requestgroup = {\n",
    "    'name': 'Cadence Example',  # The title\n",
    "    'proposal': PROPOSAL_ID,\n",
    "    'ipp_value': 1.05,\n",
    "    'operator': 'SINGLE',\n",
    "    'observation_type': 'NORMAL',\n",
    "    'requests': [{\n",
    "        'cadence': cadence,\n",
    "        'configurations': configurations,\n",
    "        'windows': windows,\n",
    "        'location': location,\n",
    "    }]\n",
    "}"
   ]
  },
  {
   "cell_type": "code",
   "execution_count": 9,
   "metadata": {},
   "outputs": [],
   "source": [
    "response = requests.post(\n",
    "    'https://observe.lco.global/api/requestgroups/cadence/',\n",
    "    headers={'Authorization': 'Token {}'.format(API_TOKEN)},\n",
    "    json=requestgroup  # Make sure you use json!\n",
    ")"
   ]
  },
  {
   "cell_type": "code",
   "execution_count": 10,
   "metadata": {},
   "outputs": [],
   "source": [
    "try:\n",
    "    response.raise_for_status()\n",
    "except requests.exceptions.HTTPError as exc:\n",
    "    print('Request failed: {}'.format(response.content))\n",
    "    raise ex"
   ]
  },
  {
   "cell_type": "code",
   "execution_count": 11,
   "metadata": {},
   "outputs": [
    {
     "name": "stdout",
     "output_type": "stream",
     "text": [
      "Cadence generated 3 requests\n",
      "Request 1 window start: 2019-10-01T00:00:00Z window end: 2019-10-01T06:00:00Z\n",
      "Request 2 window start: 2019-10-01T18:00:00Z window end: 2019-10-02T06:00:00Z\n",
      "Request 3 window start: 2019-10-02T18:00:00Z window end: 2019-10-03T06:00:00Z\n"
     ]
    }
   ],
   "source": [
    "cadence_request = response.json()\n",
    "\n",
    "print('Cadence generated {} requests'.format(len(cadence_request['requests'])))\n",
    "i = 1\n",
    "for request in cadence_request['requests']:\n",
    "    print('Request {0} window start: {1} window end: {2}'.format(\n",
    "        i, request['windows'][0]['start'], request['windows'][0]['end']\n",
    "    ))\n",
    "    i = i + 1"
   ]
  },
  {
   "cell_type": "code",
   "execution_count": 12,
   "metadata": {},
   "outputs": [
    {
     "name": "stdout",
     "output_type": "stream",
     "text": [
      "View this observing request: https://observe.lco.global/requestgroups/858381/\n"
     ]
    }
   ],
   "source": [
    "response = requests.post(\n",
    "    'https://observe.lco.global/api/requestgroups/',\n",
    "    headers={'Authorization': 'Token {}'.format(API_TOKEN)},\n",
    "    json=cadence_request  # Make sure you use json!\n",
    ")\n",
    "\n",
    "# Make sure this API call was successful\n",
    "try:\n",
    "    response.raise_for_status()\n",
    "except requests.exceptions.HTTPError as exc:\n",
    "    print('Request failed: {}'.format(response.content))\n",
    "    raise exc\n",
    "\n",
    "requestgroup_dict = response.json()\n",
    "\n",
    "# Print out the url on the portal where we can view the submitted request\n",
    "print('View this observing request: https://observe.lco.global/requestgroups/{}/'.format(requestgroup_dict['id']))"
   ]
  },
  {
   "cell_type": "code",
   "execution_count": null,
   "metadata": {},
   "outputs": [],
   "source": []
  }
 ],
 "metadata": {
  "kernelspec": {
   "display_name": "Python 3",
   "language": "python",
   "name": "python3"
  },
  "language_info": {
   "codemirror_mode": {
    "name": "ipython",
    "version": 3
   },
   "file_extension": ".py",
   "mimetype": "text/x-python",
   "name": "python",
   "nbconvert_exporter": "python",
   "pygments_lexer": "ipython3",
   "version": "3.6.5"
  }
 },
 "nbformat": 4,
 "nbformat_minor": 2
}
