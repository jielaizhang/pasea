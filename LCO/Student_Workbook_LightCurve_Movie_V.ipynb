{
 "cells": [
  {
   "cell_type": "code",
   "execution_count": null,
   "metadata": {},
   "outputs": [],
   "source": [
    "import warnings\n",
    "warnings.filterwarnings('ignore')\n",
    "\n",
    "import glob\n",
    "import numpy as np\n",
    "\n",
    "from photutils import Background2D, SExtractorBackground\n",
    "from photutils import DAOStarFinder\n",
    "from photutils import CircularAperture,aperture_photometry\n",
    "from photutils.utils import calc_total_error\n",
    "\n",
    "import astropy.wcs as wcs\n",
    "from astropy.io import fits\n",
    "from astropy.stats import sigma_clipped_stats, SigmaClip\n",
    "from astropy.nddata.utils import Cutout2D\n",
    "from astropy import units as u\n",
    "\n",
    "import matplotlib.pyplot as plt\n",
    "from astropy.visualization import ZScaleInterval"
   ]
  },
  {
   "cell_type": "code",
   "execution_count": null,
   "metadata": {},
   "outputs": [],
   "source": [
    "# Set path to file\n",
    "# This exposure was taken in the B-band. \n",
    "mypath       = '/Users/jielaizhang/Desktop/waissya/WAISSYA_LCO/Target_F/V/' \n",
    "outmoviename = 'mymovie.gif'"
   ]
  },
  {
   "cell_type": "code",
   "execution_count": null,
   "metadata": {},
   "outputs": [],
   "source": [
    "# Load in all of the fits images in the directory and sort it\n",
    "\n",
    "image_list = glob.glob(mypath+'*e91.fits.fz')\n",
    "image_list.sort()"
   ]
  },
  {
   "cell_type": "markdown",
   "metadata": {},
   "source": [
    "### Exercise"
   ]
  },
  {
   "cell_type": "code",
   "execution_count": null,
   "metadata": {},
   "outputs": [],
   "source": [
    "# Print the number of files\n",
    "\n"
   ]
  },
  {
   "cell_type": "markdown",
   "metadata": {},
   "source": [
    "# Details on target and reference stars"
   ]
  },
  {
   "cell_type": "code",
   "execution_count": null,
   "metadata": {},
   "outputs": [],
   "source": [
    "# Identify the star that you wanted to observe by opening the image in ds9 \n",
    "# by finding the star with the matching RA and DEC\n",
    "# Write down the RA and DEC of your target star here\n",
    "# Check that the star is not saturated.\n",
    "\n",
    "target_RA  = 42.54127\n",
    "target_DEC = -26.26448"
   ]
  },
  {
   "cell_type": "code",
   "execution_count": null,
   "metadata": {},
   "outputs": [],
   "source": [
    "# By looking at one of the exposures in ds9, identify 4-8 round, \n",
    "# bright stars that are not saturated \n",
    "# to use as ref stars.\n",
    "# Write down their RA, DEC below in a list\n",
    "\n",
    "ref_ra  = [42.511006, 42.516465, 42.529286,  42.570479,  42.607145]\n",
    "ref_dec = [-26.234616,-26.204686,-26.250919, -26.411994,-26.369884]"
   ]
  },
  {
   "cell_type": "code",
   "execution_count": null,
   "metadata": {},
   "outputs": [],
   "source": [
    "# Download the APASS catalog of this region of the sky from here: \n",
    "# https://www.aavso.org/apass-dr10-download\n",
    "# Identify which sources on the APASS catalog match the RA and DEC of your selected reference stars\n",
    "# Write down the magnitude of your selected reference stars below in a list\n",
    "\n",
    "ref_mag= [12.122,11.815,12.504,12.198,13.299]"
   ]
  },
  {
   "cell_type": "markdown",
   "metadata": {},
   "source": [
    "# Visualize image, target and refernece stars"
   ]
  },
  {
   "cell_type": "code",
   "execution_count": null,
   "metadata": {},
   "outputs": [],
   "source": [
    "# Plot the whole image with the reference star and target star marked to see if it all looks ok\n",
    "\n",
    "# Read in the data\n",
    "hdu = fits.open(image_list[0])\n",
    "sci_data = hdu[1]\n",
    "sci_hdr = sci_data.header\n",
    "\n",
    "# Determine where to mark the reference stars\n",
    "w = wcs.WCS(sci_hdr)\n",
    "xcoord_ref, ycoord_ref = w.all_world2pix(ref_ra,ref_dec,1)\n",
    "xcoord_target, ycoord_target = w.all_world2pix([target_RA],[target_DEC],1)\n",
    "\n",
    "# Get the best vmin and vmax to visualize the image\n",
    "# See why these two values were picked using ds9. \n",
    "interval = ZScaleInterval()\n",
    "vmin = interval.get_limits(sci_data.data)[0]\n",
    "vmax = interval.get_limits(sci_data.data)[1]\n",
    "print('vmin: ',vmin)\n",
    "print('vmax: ',vmax)\n",
    "\n",
    "figure = plt.figure(figsize=(12,24))\n",
    "plt.imshow(sci_data.data, vmin=vmin, vmax=vmax, origin='lower')\n",
    "plt.scatter(xcoord_ref,ycoord_ref,marker='o',\n",
    "            facecolors='none',s=150,linewidth=1,color='white')\n",
    "plt.scatter(xcoord_target,ycoord_target,marker='o',\n",
    "            facecolors='none',s=150,linewidth=1,color='red')"
   ]
  },
  {
   "cell_type": "markdown",
   "metadata": {},
   "source": [
    "# Some useful functions"
   ]
  },
  {
   "cell_type": "code",
   "execution_count": null,
   "metadata": {},
   "outputs": [],
   "source": [
    "# A function that outputs the magnitude of a source, and its error.\n",
    "\n",
    "def do_phot_get_mag(data,hdr,err,ra,dec):\n",
    "    zpt_instrumental = 25.\n",
    "    w         = wcs.WCS(hdr)\n",
    "    xcoords, ycoords = w.all_world2pix(ra,dec,1)\n",
    "    positions = np.transpose((xcoords, ycoords))\n",
    "    apertures = CircularAperture(positions, r=24.)\n",
    "    phot      = aperture_photometry(data, apertures, error=err)\n",
    "\n",
    "    mag     = list(-2.5*np.log10(phot['aperture_sum']) + zpt_instrumental)\n",
    "    mag_err = list((2.5/np.log(10))*(phot['aperture_sum_err']/phot['aperture_sum']))\n",
    "    \n",
    "    return mag,mag_err"
   ]
  },
  {
   "cell_type": "code",
   "execution_count": null,
   "metadata": {},
   "outputs": [],
   "source": [
    "# A function that outputs a small cutout of an image given a big image. \n",
    "\n",
    "def make_cutout(data,hdr,ra,dec):\n",
    "\n",
    "    w = wcs.WCS(hdr)\n",
    "    xcoord, ycoord = w.all_world2pix(ra,dec,1)\n",
    "    position = np.transpose((xcoord, ycoord))\n",
    "    size = u.Quantity([120, 120], u.pixel)\n",
    "    cutout = Cutout2D(data, position, size, wcs=w, mode='strict')\n",
    "\n",
    "    cutout_wcs = cutout.wcs\n",
    "    header = cutout_wcs.to_header()\n",
    "    hdu = fits.PrimaryHDU(data=cutout.data, header=header)\n",
    "\n",
    "    return hdu"
   ]
  },
  {
   "cell_type": "markdown",
   "metadata": {},
   "source": [
    "# Calculate the magnitude of the target star in all B-band frames"
   ]
  },
  {
   "cell_type": "code",
   "execution_count": null,
   "metadata": {},
   "outputs": [],
   "source": [
    "#Make some useful lists of values to track/record\n",
    "\n",
    "obstime = []\n",
    "Bmag = []\n",
    "Bmag_e = []\n",
    "\n",
    "# Loop through each frame and calculate and save the required values\n",
    "\n",
    "for frame in image_list:\n",
    "    # 1. Open the frame and read out the data, header and time of observation\n",
    "    # Read in file\n",
    "    hdu = fits.open(frame)\n",
    "\n",
    "    # Grab the actual science data based on above.\n",
    "    sci_data = hdu[1]\n",
    "    sci_hdr = sci_data.header\n",
    "    time = sci_hdr['MJD-OBS']\n",
    "    \n",
    "    # Record the time of observation of this frame\n",
    "    obstime.append(time)\n",
    "    \n",
    "    # 2. Get the background of the image and subtract it; \n",
    "    # Calculate the error associated with the background.\n",
    "    sigma_clip = SigmaClip(sigma=3.) # Sigma clip bright obvious things to avoid biasing the background estimate\n",
    "    bkg_estimator = SExtractorBackground() # Apply the SExtractor algorithm to our estimation\n",
    "    bkg = Background2D(\n",
    "        sci_data.data, (50, 50),\n",
    "        filter_size=(3, 3),\n",
    "        sigma_clip=sigma_clip,\n",
    "        bkg_estimator=bkg_estimator)\n",
    "\n",
    "    # Now let's subtract the background from the data\n",
    "    sci_bkg = sci_data.data - bkg.background\n",
    "\n",
    "    # Define an error image that will be used when calculating photometry\n",
    "    effective_gain = 1.\n",
    "    error = calc_total_error(sci_bkg, bkg.background_rms, effective_gain)\n",
    "    \n",
    "    # 3. For the target star and each reference star, carry out photometry. \n",
    "    # Be sure to use the background subtracted image. \n",
    "    # This step should output an error of the photmetry measurement. \n",
    "    \n",
    "    # Calculate instrumental mags for each of the reference stars\n",
    "    ref_instr_mag,ref_instr_mag_err = do_phot_get_mag(sci_bkg,sci_hdr,error,ref_ra,ref_dec)\n",
    "\n",
    "    # Do photometry on the variable target\n",
    "    tar_mag,tar_mag_err = do_phot_get_mag(sci_bkg,sci_hdr,error,target_RA,target_DEC)\n",
    "    \n",
    "    # 4. Find the magnitude offset between the reference stars \n",
    "    # and the catalog magnitudes \n",
    "    # and calculate the magnitude of the target star, and its error. \n",
    "    \n",
    "    # Calculate offsets and the standard deviation of the offset from each star.\n",
    "    offsets = []\n",
    "    for i in range(len(ref_instr_mag)):\n",
    "        offsets.append(ref_mag[i] - ref_instr_mag[i])\n",
    "    offset = np.mean(offsets)\n",
    "    offset_err = np.std(offsets)\n",
    "\n",
    "    cal_tar_mag = tar_mag[0]+offset\n",
    "    cal_tar_mag_err = np.sqrt(tar_mag_err[0]**2.+offset_err**2.)\n",
    "    \n",
    "    Bmag.append(cal_tar_mag)\n",
    "    Bmag_e.append(cal_tar_mag_err)"
   ]
  },
  {
   "cell_type": "markdown",
   "metadata": {},
   "source": [
    "### Excercise"
   ]
  },
  {
   "cell_type": "code",
   "execution_count": null,
   "metadata": {},
   "outputs": [],
   "source": [
    "# Print the B magnitude (Bmag), observation time (obstime), and B magnitude error (Bmag_e)\n",
    "\n",
    "print(Bmag)\n",
    "print(obstime)\n",
    "print(Bmag_e)"
   ]
  },
  {
   "cell_type": "markdown",
   "metadata": {},
   "source": [
    "# Make a light curve"
   ]
  },
  {
   "cell_type": "code",
   "execution_count": null,
   "metadata": {},
   "outputs": [],
   "source": [
    "# # Make a rudimentary lightcurve\n",
    "\n",
    "plt.figure(figsize=(10.5, 7))\n",
    "plt.errorbar(obstime,Bmag,xerr=None,yerr=Bmag_e, fmt='mo', capsize=9.0)\n",
    "plt.xlabel('MJD', fontsize=18)\n",
    "plt.ylabel('B Magnitude', fontsize=18)\n",
    "plt.show()"
   ]
  },
  {
   "cell_type": "markdown",
   "metadata": {},
   "source": [
    "# Make a tiny cutout around the star for each exposure and make it into a movie"
   ]
  },
  {
   "cell_type": "code",
   "execution_count": null,
   "metadata": {},
   "outputs": [],
   "source": [
    "#Make some useful lists of values to track/record\n",
    "\n",
    "obstime = []\n",
    "Bmag = []\n",
    "Bmag_e = []\n",
    "\n",
    "# Loop through each frame and calculate and save the required values\n",
    "\n",
    "for frame in image_list:\n",
    "    # 1. Open the frame and read out the data, header and time of observation\n",
    "    # Read in file\n",
    "    hdu = fits.open(frame)\n",
    "\n",
    "    # Grab the actual science data based on above.\n",
    "    sci_data = hdu[1]\n",
    "    sci_hdr = sci_data.header\n",
    "    time = sci_hdr['MJD-OBS']\n",
    "    \n",
    "    # Record the time of observation of this frame\n",
    "    obstime.append(time)\n",
    "    \n",
    "    # 2. Get the background of the image and subtract it; \n",
    "    # Calculate the error associated with the background.\n",
    "    sigma_clip = SigmaClip(sigma=3.) # Sigma clip bright obvious things to avoid biasing the background estimate\n",
    "    bkg_estimator = SExtractorBackground() # Apply the SExtractor algorithm to our estimation\n",
    "    bkg = Background2D(\n",
    "        sci_data.data, (50, 50),\n",
    "        filter_size=(3, 3),\n",
    "        sigma_clip=sigma_clip,\n",
    "        bkg_estimator=bkg_estimator)\n",
    "\n",
    "    # Now let's subtract the background from the data\n",
    "    sci_bkg = sci_data.data - bkg.background\n",
    "\n",
    "    # Define an error image that will be used when calculating photometry\n",
    "    effective_gain = 1.\n",
    "    error = calc_total_error(sci_bkg, bkg.background_rms, effective_gain)\n",
    "    \n",
    "    # 3. For the target star and each reference star, carry out photometry. \n",
    "    # Be sure to use the background subtracted image. \n",
    "    # This step should output an error of the photmetry measurement. \n",
    "    \n",
    "    # Calculate instrumental mags for each of the reference stars\n",
    "    ref_instr_mag,ref_instr_mag_err = do_phot_get_mag(sci_bkg,sci_hdr,error,ref_ra,ref_dec)\n",
    "\n",
    "    # Make tiny cutouts of the variable star in each frame\n",
    "    cutout_hdu = make_cutout(sci_bkg,sci_hdr,target_RA,target_DEC)\n",
    "    #cutout_hdu.writeto(frame+'_cutout.fits', overwrite=True)\n",
    "\n",
    "    # Plot figures using these cutouts and output images\n",
    "    interval = ZScaleInterval()\n",
    "    vmin = interval.get_limits(cutout_hdu.data)[0]\n",
    "    vmax = interval.get_limits(cutout_hdu.data)[1]\n",
    "\n",
    "    plt.subplot(projection=wcs.WCS(cutout_hdu.header))\n",
    "    plt.imshow(cutout_hdu.data, vmin=vmin, vmax=vmax, origin='lower')\n",
    "    plt.xlabel('R.A.')\n",
    "    plt.ylabel('Declination')\n",
    "\n",
    "    # Save the small cutout as a png, with the file name as the time of observation. \n",
    "    # This can be used later to make a movie of your source\n",
    "    pngname = str(time).replace('.','')\n",
    "    plt.savefig(mypath+pngname+'.png', overwrite=True)"
   ]
  },
  {
   "cell_type": "markdown",
   "metadata": {},
   "source": [
    "### Make small cutouts into a movie"
   ]
  },
  {
   "cell_type": "code",
   "execution_count": null,
   "metadata": {},
   "outputs": [],
   "source": [
    "# Here we are going to use the cutouts we made above to make\n",
    "# an little movie of the variable star target changing brightness\n",
    "# over time and loop it!\n",
    "\n",
    "import imageio \n",
    "\n",
    "cutout_list = glob.glob(mypath+'*.png')\n",
    "cutout_list.sort()\n",
    "\n",
    "cutout_frames = []\n",
    "for file in cutout_list:\n",
    "    cutout_frames.append(imageio.imread(file))\n",
    "imageio.mimsave(mypath+'mymovie.gif', cutout_frames)"
   ]
  },
  {
   "cell_type": "code",
   "execution_count": null,
   "metadata": {},
   "outputs": [],
   "source": []
  }
 ],
 "metadata": {
  "kernelspec": {
   "display_name": "Python 3",
   "language": "python",
   "name": "python3"
  },
  "language_info": {
   "codemirror_mode": {
    "name": "ipython",
    "version": 3
   },
   "file_extension": ".py",
   "mimetype": "text/x-python",
   "name": "python",
   "nbconvert_exporter": "python",
   "pygments_lexer": "ipython3",
   "version": "3.6.5"
  },
  "toc": {
   "base_numbering": 1,
   "nav_menu": {},
   "number_sections": true,
   "sideBar": true,
   "skip_h1_title": false,
   "title_cell": "Table of Contents",
   "title_sidebar": "Contents",
   "toc_cell": false,
   "toc_position": {},
   "toc_section_display": true,
   "toc_window_display": false
  }
 },
 "nbformat": 4,
 "nbformat_minor": 2
}
