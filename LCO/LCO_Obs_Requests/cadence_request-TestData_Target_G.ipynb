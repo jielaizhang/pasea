{
 "cells": [
  {
   "cell_type": "code",
   "execution_count": 15,
   "metadata": {},
   "outputs": [],
   "source": [
    "import requests\n",
    "import numpy as np\n",
    "import datetime"
   ]
  },
  {
   "cell_type": "markdown",
   "metadata": {},
   "source": [
    "Set up your API token from your profile on observation portal"
   ]
  },
  {
   "cell_type": "code",
   "execution_count": 16,
   "metadata": {},
   "outputs": [],
   "source": [
    "API_TOKEN = 'XXX'\n",
    "PROPOSAL_ID = 'LCOEPO2019A-001'"
   ]
  },
  {
   "cell_type": "code",
   "execution_count": 17,
   "metadata": {},
   "outputs": [
    {
     "name": "stdout",
     "output_type": "stream",
     "text": [
      "The observing cadence is 20.475 mins\n",
      "The observing cadence is 20.0 mins\n"
     ]
    }
   ],
   "source": [
    "# Determine when the observations are to take place\n",
    "# The period is NOT the period of the variable. \n",
    "# The period is the cadence at which you want to observe, in HOURS\n",
    "# The Jitter is the window within which your observation may take place. \n",
    "\n",
    "target_known_period = 9.75\n",
    "\n",
    "# Want 0.035 phase intervals between each observation (this is true for all targets):\n",
    "period = target_known_period*0.035 # hours\n",
    "print('The observing cadence is {} mins'.format(period*60))\n",
    "period = np.floor(period*60)/60\n",
    "print('The observing cadence is {} mins'.format(period*60))\n",
    "\n",
    "# Want jitter to equal period to \"fully cover\" time\n",
    "jitter = period\n",
    "\n",
    "cadence = {\n",
    "    'start': '2019-10-05 18:00:00',\n",
    "    'end': '2019-10-06 05:00:00',\n",
    "    'period': period,\n",
    "    'jitter': jitter\n",
    "}"
   ]
  },
  {
   "cell_type": "code",
   "execution_count": 18,
   "metadata": {},
   "outputs": [],
   "source": [
    "target = {\n",
    "    'name': 'Target_G',\n",
    "    'type': 'ICRS',\n",
    "    'ra': 314.45139,\n",
    "    'dec': -5.68518,\n",
    "    'epoch': 2000\n",
    "}"
   ]
  },
  {
   "cell_type": "code",
   "execution_count": 19,
   "metadata": {},
   "outputs": [],
   "source": [
    "# Keep Max_airmass at 1.6\n",
    "# min_lunar_distance is in DEGREES, keep at 20 degrees\n",
    "\n",
    "constraints = {\n",
    "    'max_airmass': 2.0,\n",
    "    'min_lunar_distance': 20\n",
    "}"
   ]
  },
  {
   "cell_type": "code",
   "execution_count": 20,
   "metadata": {},
   "outputs": [],
   "source": [
    "# This does not need to be changed.\n",
    "# Exposure time is in SECONDS\n",
    "\n",
    "configurations = [\n",
    "    {\n",
    "        'type': 'EXPOSE',\n",
    "        'instrument_type': '0M4-SCICAM-SBIG',\n",
    "        'target': target,\n",
    "        'constraints': constraints,\n",
    "        'acquisition_config': {},\n",
    "        'guiding_config': {},\n",
    "        'instrument_configs': [\n",
    "            {\n",
    "                'exposure_time': 90,\n",
    "                'exposure_count': 1,\n",
    "                'optical_elements': {\n",
    "                    'filter': 'v'\n",
    "                }\n",
    "            }\n",
    "        ]\n",
    "    },\n",
    "    {\n",
    "        'type': 'EXPOSE',\n",
    "        'instrument_type': '0M4-SCICAM-SBIG',\n",
    "        'target': target,\n",
    "        'constraints': constraints,\n",
    "        'acquisition_config': {},\n",
    "        'guiding_config': {},\n",
    "        'instrument_configs': [\n",
    "            {\n",
    "                'exposure_time': 90,\n",
    "                'exposure_count': 1,\n",
    "                'optical_elements': {\n",
    "                    'filter': 'b'\n",
    "                }\n",
    "            }\n",
    "        ]\n",
    "    }\n",
    "]"
   ]
  },
  {
   "cell_type": "code",
   "execution_count": 21,
   "metadata": {},
   "outputs": [],
   "source": [
    "# This cell does not need to be edited.\n",
    "\n",
    "# We do not provide windows for a cadence request\n",
    "windows = []\n",
    "\n",
    "# The telescope class that should be used for this observation\n",
    "location = {\n",
    "    'telescope_class': '0m4'\n",
    "}"
   ]
  },
  {
   "cell_type": "code",
   "execution_count": 22,
   "metadata": {},
   "outputs": [],
   "source": [
    "# Please input the name of your observation request. Eg. Group_Star_Target_B\n",
    "requestgroup = {\n",
    "    'name': 'TestData_Target_G',  # The title\n",
    "    'proposal': PROPOSAL_ID,\n",
    "    'ipp_value': 1.05,\n",
    "    'operator': 'SINGLE',\n",
    "    'observation_type': 'NORMAL',\n",
    "    'requests': [{\n",
    "        'cadence': cadence,\n",
    "        'configurations': configurations,\n",
    "        'windows': windows,\n",
    "        'location': location,\n",
    "    }]\n",
    "}"
   ]
  },
  {
   "cell_type": "code",
   "execution_count": 23,
   "metadata": {},
   "outputs": [],
   "source": [
    "response = requests.post(\n",
    "    'https://observe.lco.global/api/requestgroups/cadence/',\n",
    "    headers={'Authorization': 'Token {}'.format(API_TOKEN)},\n",
    "    json=requestgroup  # Make sure you use json!\n",
    ")"
   ]
  },
  {
   "cell_type": "code",
   "execution_count": 24,
   "metadata": {},
   "outputs": [],
   "source": [
    "try:\n",
    "    response.raise_for_status()\n",
    "except requests.exceptions.HTTPError as exc:\n",
    "    print('Request failed: {}'.format(response.content))\n",
    "    raise exc"
   ]
  },
  {
   "cell_type": "code",
   "execution_count": 25,
   "metadata": {},
   "outputs": [
    {
     "name": "stdout",
     "output_type": "stream",
     "text": [
      "Cadence generated 33 requests\n",
      "Request 1 window start: 2019-10-05T18:00:00Z window end: 2019-10-05T18:10:00Z\n",
      "Request 2 window start: 2019-10-05T18:10:00Z window end: 2019-10-05T18:30:00Z\n",
      "Request 3 window start: 2019-10-05T18:30:00Z window end: 2019-10-05T18:50:00Z\n",
      "Request 4 window start: 2019-10-05T18:50:00Z window end: 2019-10-05T19:10:00Z\n",
      "Request 5 window start: 2019-10-05T19:10:00Z window end: 2019-10-05T19:30:00Z\n",
      "Request 6 window start: 2019-10-05T19:30:00Z window end: 2019-10-05T19:50:00Z\n",
      "Request 7 window start: 2019-10-05T19:50:00Z window end: 2019-10-05T20:10:00Z\n",
      "Request 8 window start: 2019-10-05T20:10:00Z window end: 2019-10-05T20:30:00Z\n",
      "Request 9 window start: 2019-10-05T20:30:00Z window end: 2019-10-05T20:50:00Z\n",
      "Request 10 window start: 2019-10-05T20:50:00Z window end: 2019-10-05T21:10:00Z\n",
      "Request 11 window start: 2019-10-05T21:10:00Z window end: 2019-10-05T21:30:00Z\n",
      "Request 12 window start: 2019-10-05T21:30:00Z window end: 2019-10-05T21:50:00Z\n",
      "Request 13 window start: 2019-10-05T21:50:00Z window end: 2019-10-05T22:10:00Z\n",
      "Request 14 window start: 2019-10-05T22:10:00Z window end: 2019-10-05T22:30:00Z\n",
      "Request 15 window start: 2019-10-05T22:30:00Z window end: 2019-10-05T22:50:00Z\n",
      "Request 16 window start: 2019-10-05T22:50:00Z window end: 2019-10-05T23:10:00Z\n",
      "Request 17 window start: 2019-10-05T23:10:00Z window end: 2019-10-05T23:30:00Z\n",
      "Request 18 window start: 2019-10-05T23:30:00Z window end: 2019-10-05T23:50:00Z\n",
      "Request 19 window start: 2019-10-05T23:50:00Z window end: 2019-10-06T00:10:00Z\n",
      "Request 20 window start: 2019-10-06T00:10:00Z window end: 2019-10-06T00:30:00Z\n",
      "Request 21 window start: 2019-10-06T00:30:00Z window end: 2019-10-06T00:50:00Z\n",
      "Request 22 window start: 2019-10-06T00:50:00Z window end: 2019-10-06T01:10:00Z\n",
      "Request 23 window start: 2019-10-06T01:10:00Z window end: 2019-10-06T01:30:00Z\n",
      "Request 24 window start: 2019-10-06T01:30:00Z window end: 2019-10-06T01:50:00Z\n",
      "Request 25 window start: 2019-10-06T01:50:00Z window end: 2019-10-06T02:10:00Z\n",
      "Request 26 window start: 2019-10-06T02:10:00Z window end: 2019-10-06T02:30:00Z\n",
      "Request 27 window start: 2019-10-06T02:30:00Z window end: 2019-10-06T02:50:00Z\n",
      "Request 28 window start: 2019-10-06T02:50:00Z window end: 2019-10-06T03:10:00Z\n",
      "Request 29 window start: 2019-10-06T03:10:00Z window end: 2019-10-06T03:30:00Z\n",
      "Request 30 window start: 2019-10-06T03:30:00Z window end: 2019-10-06T03:50:00Z\n",
      "Request 31 window start: 2019-10-06T03:50:00Z window end: 2019-10-06T04:10:00Z\n",
      "Request 32 window start: 2019-10-06T04:10:00Z window end: 2019-10-06T04:30:00Z\n",
      "Request 33 window start: 2019-10-06T04:30:00Z window end: 2019-10-06T04:50:00Z\n"
     ]
    }
   ],
   "source": [
    "cadence_request = response.json()\n",
    "\n",
    "print('Cadence generated {} requests'.format(len(cadence_request['requests'])))\n",
    "i = 1\n",
    "for request in cadence_request['requests']:\n",
    "    print('Request {0} window start: {1} window end: {2}'.format(\n",
    "        i, request['windows'][0]['start'], request['windows'][0]['end']\n",
    "    ))\n",
    "    i = i + 1"
   ]
  },
  {
   "cell_type": "code",
   "execution_count": 26,
   "metadata": {
    "scrolled": false
   },
   "outputs": [
    {
     "name": "stdout",
     "output_type": "stream",
     "text": [
      "Total number of observing hours needed for this request:  3.0616666666666665\n"
     ]
    }
   ],
   "source": [
    "# Submit the fully formed RequestGroup\n",
    "response = requests.post(\n",
    "    'https://observe.lco.global/api/requestgroups/validate/',\n",
    "    headers={'Authorization': 'Token {}'.format(API_TOKEN)},\n",
    "    json=cadence_request  # Make sure you use json!\n",
    ")\n",
    "\n",
    "# Make sure the API call was successful\n",
    "try:\n",
    "    response.raise_for_status()\n",
    "except requests.exceptions.HTTPError as exc:\n",
    "    print('API call failed: {}'.format(response.content))\n",
    "    raise exc\n",
    "\n",
    "requestgroup_dict = response.json()  # The API will return the newly submitted requestgroup as json\n",
    "\n",
    "print('Total number of observing hours needed for this request: ',\n",
    "      requestgroup_dict['request_durations']['duration']/60./60)"
   ]
  },
  {
   "cell_type": "code",
   "execution_count": null,
   "metadata": {},
   "outputs": [],
   "source": []
  },
  {
   "cell_type": "markdown",
   "metadata": {},
   "source": [
    "# Do not run the following cell until you have confirmed with an instructor your observation."
   ]
  },
  {
   "cell_type": "code",
   "execution_count": 27,
   "metadata": {},
   "outputs": [
    {
     "name": "stdout",
     "output_type": "stream",
     "text": [
      "View this observing request: https://observe.lco.global/requestgroups/864159/\n",
      "This request was successfully submitted at 2019-10-05 10:48:40.717449\n"
     ]
    }
   ],
   "source": [
    "response = requests.post(\n",
    "    'https://observe.lco.global/api/requestgroups/',\n",
    "    headers={'Authorization': 'Token {}'.format(API_TOKEN)},\n",
    "    json=cadence_request  # Make sure you use json!\n",
    ")\n",
    "\n",
    "# Make sure this API call was successful\n",
    "try:\n",
    "    response.raise_for_status()\n",
    "except requests.exceptions.HTTPError as exc:\n",
    "    print('Request failed: {}'.format(response.content))\n",
    "    raise exc\n",
    "\n",
    "requestgroup_dict = response.json()\n",
    "\n",
    "# Print out the url on the portal where we can view the submitted request\n",
    "print('View this observing request: https://observe.lco.global/requestgroups/{}/'.format(requestgroup_dict['id']))\n",
    "\n",
    "print('This request was successfully submitted at {}'.format(datetime.datetime.now()))"
   ]
  },
  {
   "cell_type": "code",
   "execution_count": null,
   "metadata": {},
   "outputs": [],
   "source": []
  }
 ],
 "metadata": {
  "kernelspec": {
   "display_name": "Python 3",
   "language": "python",
   "name": "python3"
  },
  "language_info": {
   "codemirror_mode": {
    "name": "ipython",
    "version": 3
   },
   "file_extension": ".py",
   "mimetype": "text/x-python",
   "name": "python",
   "nbconvert_exporter": "python",
   "pygments_lexer": "ipython3",
   "version": "3.7.3"
  }
 },
 "nbformat": 4,
 "nbformat_minor": 2
}
