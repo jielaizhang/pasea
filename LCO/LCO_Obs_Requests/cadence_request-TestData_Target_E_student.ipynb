{
 "cells": [
  {
   "cell_type": "code",
   "execution_count": 16,
   "metadata": {},
   "outputs": [],
   "source": [
    "import requests\n",
    "import numpy as np\n",
    "import datetime"
   ]
  },
  {
   "cell_type": "markdown",
   "metadata": {},
   "source": [
    "Set up your API token from your profile on observation portal"
   ]
  },
  {
   "cell_type": "code",
   "execution_count": 28,
   "metadata": {},
   "outputs": [
    {
     "name": "stdout",
     "output_type": "stream",
     "text": [
      "The observation cadence is:  0.35  Hours, or  21.0  minutes\n"
     ]
    }
   ],
   "source": [
    "API_TOKEN   = 'XXX'\n",
    "PROPOSAL_ID = 'LCOEPO2019A-001' \n",
    "OBSERVATION_TITLE   = 'StudentData_Target_E'\n",
    "TARGET_NAME         = 'TARGET_E' # Target Period: 7.6 Hours\n",
    "RA                  = 45.06433\n",
    "DEC                 = -4.99483\n",
    "OBSERVATION_CADENCE = 21./60 # hours\n",
    "START_TIME          = '2019-10-30 20:00:00'\n",
    "END_TIME            = '2019-10-31 05:00:00'\n",
    "EXPOSURE_TIME       = 90 # seconds\n",
    "FILTER1             = 'v'\n",
    "FILTER2             = 'b'\n",
    "print('The observation cadence is: ',OBSERVATION_CADENCE,' Hours, or ',OBSERVATION_CADENCE*60,' minutes')"
   ]
  },
  {
   "cell_type": "code",
   "execution_count": 29,
   "metadata": {},
   "outputs": [],
   "source": [
    "# Determine when the observations are to take place\n",
    "# The period is NOT the period of the variable. \n",
    "# The period is the cadence at which you want to observe, in HOURS\n",
    "# The Jitter is the window within which your observation may take place. \n",
    "\n",
    "# Want jitter to equal period to \"fully cover\" time\n",
    "jitter = OBSERVATION_CADENCE\n",
    "\n",
    "cadence = {\n",
    "    'start': START_TIME,\n",
    "    'end': END_TIME,\n",
    "    'period': OBSERVATION_CADENCE,\n",
    "    'jitter': jitter\n",
    "}"
   ]
  },
  {
   "cell_type": "code",
   "execution_count": 30,
   "metadata": {},
   "outputs": [],
   "source": [
    "target = {\n",
    "    'name': TARGET_NAME,\n",
    "    'type': 'ICRS',\n",
    "    'ra': RA,\n",
    "    'dec': DEC,\n",
    "    'epoch': 2000\n",
    "}"
   ]
  },
  {
   "cell_type": "code",
   "execution_count": 31,
   "metadata": {},
   "outputs": [],
   "source": [
    "# Keep Max_airmass at 1.6\n",
    "# min_lunar_distance is in DEGREES, keep at 20 degrees\n",
    "\n",
    "constraints = {\n",
    "    'max_airmass': 2.0,\n",
    "    'min_lunar_distance': 20\n",
    "}"
   ]
  },
  {
   "cell_type": "code",
   "execution_count": 32,
   "metadata": {},
   "outputs": [],
   "source": [
    "# This does not need to be changed.\n",
    "# Exposure time is in SECONDS\n",
    "\n",
    "configurations = [\n",
    "    {\n",
    "        'type': 'EXPOSE',\n",
    "        'instrument_type': '0M4-SCICAM-SBIG',\n",
    "        'target': target,\n",
    "        'constraints': constraints,\n",
    "        'acquisition_config': {},\n",
    "        'guiding_config': {},\n",
    "        'instrument_configs': [\n",
    "            {\n",
    "                'exposure_time': EXPOSURE_TIME,\n",
    "                'exposure_count': 1,\n",
    "                'optical_elements': {\n",
    "                    'filter': FILTER1\n",
    "                }\n",
    "            }\n",
    "        ]\n",
    "    },\n",
    "    {\n",
    "        'type': 'EXPOSE',\n",
    "        'instrument_type': '0M4-SCICAM-SBIG',\n",
    "        'target': target,\n",
    "        'constraints': constraints,\n",
    "        'acquisition_config': {},\n",
    "        'guiding_config': {},\n",
    "        'instrument_configs': [\n",
    "            {\n",
    "                'exposure_time': EXPOSURE_TIME,\n",
    "                'exposure_count': 1,\n",
    "                'optical_elements': {\n",
    "                    'filter': FILTER2\n",
    "                }\n",
    "            }\n",
    "        ]\n",
    "    }\n",
    "]"
   ]
  },
  {
   "cell_type": "code",
   "execution_count": 33,
   "metadata": {},
   "outputs": [],
   "source": [
    "# This cell does not need to be edited.\n",
    "\n",
    "# We do not provide windows for a cadence request\n",
    "windows = []\n",
    "\n",
    "# The telescope class that should be used for this observation\n",
    "location = {\n",
    "    'telescope_class': '0m4'\n",
    "}"
   ]
  },
  {
   "cell_type": "code",
   "execution_count": 34,
   "metadata": {},
   "outputs": [],
   "source": [
    "# Please input the name of your observation request. Eg. Group_Star_Target_B\n",
    "requestgroup = {\n",
    "    'name': OBSERVATION_TITLE,  # The title\n",
    "    'proposal': PROPOSAL_ID,\n",
    "    'ipp_value': 1.05,\n",
    "    'operator': 'SINGLE',\n",
    "    'observation_type': 'NORMAL',\n",
    "    'requests': [{\n",
    "        'cadence': cadence,\n",
    "        'configurations': configurations,\n",
    "        'windows': windows,\n",
    "        'location': location,\n",
    "    }]\n",
    "}"
   ]
  },
  {
   "cell_type": "code",
   "execution_count": 35,
   "metadata": {},
   "outputs": [],
   "source": [
    "response = requests.post(\n",
    "    'https://observe.lco.global/api/requestgroups/cadence/',\n",
    "    headers={'Authorization': 'Token {}'.format(API_TOKEN)},\n",
    "    json=requestgroup  # Make sure you use json!\n",
    ")"
   ]
  },
  {
   "cell_type": "code",
   "execution_count": 36,
   "metadata": {},
   "outputs": [],
   "source": [
    "try:\n",
    "    response.raise_for_status()\n",
    "except requests.exceptions.HTTPError as exc:\n",
    "    print('Request failed: {}'.format(response.content))\n",
    "    raise exc"
   ]
  },
  {
   "cell_type": "code",
   "execution_count": 37,
   "metadata": {},
   "outputs": [
    {
     "name": "stdout",
     "output_type": "stream",
     "text": [
      "Cadence generated 26 requests\n",
      "Request 1 window start: 2019-10-30T20:00:00Z window end: 2019-10-30T20:10:30Z\n",
      "Request 2 window start: 2019-10-30T20:10:30Z window end: 2019-10-30T20:31:30Z\n",
      "Request 3 window start: 2019-10-30T20:31:30Z window end: 2019-10-30T20:52:30Z\n",
      "Request 4 window start: 2019-10-30T20:52:30Z window end: 2019-10-30T21:13:30Z\n",
      "Request 5 window start: 2019-10-30T21:13:30Z window end: 2019-10-30T21:34:30Z\n",
      "Request 6 window start: 2019-10-30T21:34:30Z window end: 2019-10-30T21:55:30Z\n",
      "Request 7 window start: 2019-10-30T21:55:30Z window end: 2019-10-30T22:16:30Z\n",
      "Request 8 window start: 2019-10-30T22:16:30Z window end: 2019-10-30T22:37:30Z\n",
      "Request 9 window start: 2019-10-30T22:37:30Z window end: 2019-10-30T22:58:30Z\n",
      "Request 10 window start: 2019-10-30T22:58:30Z window end: 2019-10-30T23:19:30Z\n",
      "Request 11 window start: 2019-10-30T23:19:30Z window end: 2019-10-30T23:40:30Z\n",
      "Request 12 window start: 2019-10-30T23:40:30Z window end: 2019-10-31T00:01:30Z\n",
      "Request 13 window start: 2019-10-31T00:01:30Z window end: 2019-10-31T00:22:30Z\n",
      "Request 14 window start: 2019-10-31T00:22:30Z window end: 2019-10-31T00:43:30Z\n",
      "Request 15 window start: 2019-10-31T00:43:30Z window end: 2019-10-31T01:04:30Z\n",
      "Request 16 window start: 2019-10-31T01:04:30Z window end: 2019-10-31T01:25:30Z\n",
      "Request 17 window start: 2019-10-31T01:25:30Z window end: 2019-10-31T01:46:30Z\n",
      "Request 18 window start: 2019-10-31T01:46:30Z window end: 2019-10-31T02:07:30Z\n",
      "Request 19 window start: 2019-10-31T02:07:30Z window end: 2019-10-31T02:28:30Z\n",
      "Request 20 window start: 2019-10-31T02:28:30Z window end: 2019-10-31T02:49:30Z\n",
      "Request 21 window start: 2019-10-31T02:49:30Z window end: 2019-10-31T03:10:30Z\n",
      "Request 22 window start: 2019-10-31T03:10:30Z window end: 2019-10-31T03:31:30Z\n",
      "Request 23 window start: 2019-10-31T03:31:30Z window end: 2019-10-31T03:52:30Z\n",
      "Request 24 window start: 2019-10-31T03:52:30Z window end: 2019-10-31T04:13:30Z\n",
      "Request 25 window start: 2019-10-31T04:13:30Z window end: 2019-10-31T04:34:30Z\n",
      "Request 26 window start: 2019-10-31T04:34:30Z window end: 2019-10-31T04:55:30Z\n"
     ]
    }
   ],
   "source": [
    "cadence_request = response.json()\n",
    "\n",
    "print('Cadence generated {} requests'.format(len(cadence_request['requests'])))\n",
    "i = 1\n",
    "for request in cadence_request['requests']:\n",
    "    print('Request {0} window start: {1} window end: {2}'.format(\n",
    "        i, request['windows'][0]['start'], request['windows'][0]['end']\n",
    "    ))\n",
    "    i = i + 1"
   ]
  },
  {
   "cell_type": "code",
   "execution_count": 38,
   "metadata": {
    "scrolled": false
   },
   "outputs": [
    {
     "name": "stdout",
     "output_type": "stream",
     "text": [
      "Total number of observing hours needed for this request:  2.412222222222222\n"
     ]
    }
   ],
   "source": [
    "# Submit the fully formed RequestGroup\n",
    "response = requests.post(\n",
    "    'https://observe.lco.global/api/requestgroups/validate/',\n",
    "    headers={'Authorization': 'Token {}'.format(API_TOKEN)},\n",
    "    json=cadence_request  # Make sure you use json!\n",
    ")\n",
    "\n",
    "# Make sure the API call was successful\n",
    "try:\n",
    "    response.raise_for_status()\n",
    "except requests.exceptions.HTTPError as exc:\n",
    "    print('API call failed: {}'.format(response.content))\n",
    "    raise exc\n",
    "\n",
    "requestgroup_dict = response.json()  # The API will return the newly submitted requestgroup as json\n",
    "\n",
    "print('Total number of observing hours needed for this request: ',\n",
    "      requestgroup_dict['request_durations']['duration']/60./60)"
   ]
  },
  {
   "cell_type": "code",
   "execution_count": null,
   "metadata": {},
   "outputs": [],
   "source": []
  },
  {
   "cell_type": "code",
   "execution_count": null,
   "metadata": {},
   "outputs": [],
   "source": []
  },
  {
   "cell_type": "code",
   "execution_count": null,
   "metadata": {},
   "outputs": [],
   "source": []
  },
  {
   "cell_type": "markdown",
   "metadata": {},
   "source": [
    "# Do not run the following cell until you have confirmed with an instructor your observation."
   ]
  },
  {
   "cell_type": "code",
   "execution_count": null,
   "metadata": {},
   "outputs": [],
   "source": [
    "response = requests.post(\n",
    "    'https://observe.lco.global/api/requestgroups/',\n",
    "    headers={'Authorization': 'Token {}'.format(API_TOKEN)},\n",
    "    json=cadence_request  # Make sure you use json!\n",
    ")\n",
    "\n",
    "# Make sure this API call was successful\n",
    "try:\n",
    "    response.raise_for_status()\n",
    "except requests.exceptions.HTTPError as exc:\n",
    "    print('Request failed: {}'.format(response.content))\n",
    "    raise exc\n",
    "\n",
    "requestgroup_dict = response.json()\n",
    "\n",
    "# Print out the url on the portal where we can view the submitted request\n",
    "print('View this observing request: https://observe.lco.global/requestgroups/{}/'.format(requestgroup_dict['id']))\n",
    "\n",
    "print('This request was successfully submitted at {}'.format(datetime.datetime.now()))"
   ]
  },
  {
   "cell_type": "code",
   "execution_count": null,
   "metadata": {},
   "outputs": [],
   "source": []
  },
  {
   "cell_type": "code",
   "execution_count": null,
   "metadata": {},
   "outputs": [],
   "source": []
  },
  {
   "cell_type": "code",
   "execution_count": null,
   "metadata": {},
   "outputs": [],
   "source": []
  },
  {
   "cell_type": "code",
   "execution_count": null,
   "metadata": {},
   "outputs": [],
   "source": []
  },
  {
   "cell_type": "code",
   "execution_count": null,
   "metadata": {},
   "outputs": [],
   "source": []
  },
  {
   "cell_type": "code",
   "execution_count": null,
   "metadata": {},
   "outputs": [],
   "source": []
  },
  {
   "cell_type": "code",
   "execution_count": null,
   "metadata": {},
   "outputs": [],
   "source": []
  },
  {
   "cell_type": "code",
   "execution_count": null,
   "metadata": {},
   "outputs": [],
   "source": []
  },
  {
   "cell_type": "code",
   "execution_count": null,
   "metadata": {},
   "outputs": [],
   "source": []
  },
  {
   "cell_type": "code",
   "execution_count": null,
   "metadata": {},
   "outputs": [],
   "source": []
  },
  {
   "cell_type": "code",
   "execution_count": null,
   "metadata": {},
   "outputs": [],
   "source": []
  },
  {
   "cell_type": "code",
   "execution_count": 3,
   "metadata": {},
   "outputs": [
    {
     "name": "stdout",
     "output_type": "stream",
     "text": [
      "0.04504504504504504\n",
      "20.540540540540537 minutes\n"
     ]
    }
   ],
   "source": [
    "TARGET_PERIOD = 7.6 # hours\n",
    "cadence_phase = (1/2./3.)/3.7\n",
    "print(cadence_phase)\n",
    "print(TARGET_PERIOD*cadence_phase*60,'minutes')"
   ]
  },
  {
   "cell_type": "code",
   "execution_count": null,
   "metadata": {},
   "outputs": [],
   "source": []
  }
 ],
 "metadata": {
  "kernelspec": {
   "display_name": "Python 3",
   "language": "python",
   "name": "python3"
  },
  "language_info": {
   "codemirror_mode": {
    "name": "ipython",
    "version": 3
   },
   "file_extension": ".py",
   "mimetype": "text/x-python",
   "name": "python",
   "nbconvert_exporter": "python",
   "pygments_lexer": "ipython3",
   "version": "3.6.5"
  }
 },
 "nbformat": 4,
 "nbformat_minor": 2
}
