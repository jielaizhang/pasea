{
 "cells": [
  {
   "cell_type": "code",
   "execution_count": 1,
   "metadata": {},
   "outputs": [],
   "source": [
    "import requests\n",
    "import numpy as np\n",
    "import datetime"
   ]
  },
  {
   "cell_type": "markdown",
   "metadata": {},
   "source": [
    "# Group Details\n",
    "\n",
    "Group Number:\n",
    "\n",
    "Group Member 1:\n",
    "\n",
    "Group Member 2:\n",
    "\n",
    "Group Member 3:\n",
    "\n",
    "Target Name:\n",
    "\n",
    "Target Period:\n",
    "\n",
    "\n",
    "Comments:"
   ]
  },
  {
   "cell_type": "code",
   "execution_count": null,
   "metadata": {},
   "outputs": [],
   "source": []
  },
  {
   "cell_type": "markdown",
   "metadata": {},
   "source": [
    "# Set up your API token (the password that gives access to LCO)"
   ]
  },
  {
   "cell_type": "code",
   "execution_count": 45,
   "metadata": {},
   "outputs": [],
   "source": [
    "# This is the password for an account on the LCO Network\n",
    "API_TOKEN = 'XXX'\n",
    "\n",
    "# This is the proposal ID for the successful proposal that allows us to use the LCO Network of telescopes\n",
    "# The \"PASEA account\" has access to this proposal for checking observation paramters\n",
    "# BUT the \"PASEA account\" does not have permission to submit observations.\n",
    "PROPOSAL_ID = 'LCOEPO2021B-001'"
   ]
  },
  {
   "cell_type": "markdown",
   "metadata": {},
   "source": [
    "# Determine the required cadence of the observations"
   ]
  },
  {
   "cell_type": "code",
   "execution_count": 34,
   "metadata": {},
   "outputs": [
    {
     "name": "stdout",
     "output_type": "stream",
     "text": [
      "The observing cadence is 11.0 mins\n",
      "If start at 17:30, when end? A: 23.9296 .9296 hr in min is:  55.775999999999996\n"
     ]
    }
   ],
   "source": [
    "# Determine when the observations are to take place\n",
    "# The Jitter is the window within which your observation may take place. \n",
    "\n",
    "target_known_period_hours = 5.358\n",
    "\n",
    "# Want 0.035 phase intervals between each observation (this is true for all targets):\n",
    "observation_cadence_hours = target_known_period_hours*0.035 \n",
    "observation_cadence_hours = np.floor(observation_cadence_hours*60)/60\n",
    "print('The observing cadence is {} mins'.format(observation_cadence_hours*60))\n",
    "\n",
    "# Want jitter to equal observation_cadence_hours\n",
    "# to \"fully cover\" time\n",
    "jitter = observation_cadence_hours\n",
    "\n",
    "# Assume UTC. # Assume UTC; You will get exposures between start and end every \"observation_cadence_hours\"\n",
    "total_observation_startToEnd = 5.358*1.2\n",
    "print('If start at 17:30, when end? A:',17.5+total_observation_startToEnd, '.9296 hr in min is: ', .9296*60)\n",
    "\n",
    "LCO_input_cadence = {\n",
    "    'start': '2022-08-08 22:30:00',\n",
    "    'end': '2022-08-08 23:00:00',\n",
    "    'period': observation_cadence_hours,\n",
    "    'jitter': jitter\n",
    "}"
   ]
  },
  {
   "cell_type": "markdown",
   "metadata": {},
   "source": [
    "# Input details on the target"
   ]
  },
  {
   "cell_type": "code",
   "execution_count": 35,
   "metadata": {},
   "outputs": [],
   "source": [
    "LCO_input_target = {\n",
    "    'name': 'Target_J',\n",
    "    'type': 'ICRS',\n",
    "    'ra': '259.44602',\n",
    "    'dec': '31.60057',\n",
    "    'epoch': 2000\n",
    "}"
   ]
  },
  {
   "cell_type": "markdown",
   "metadata": {},
   "source": [
    "# Input some other observing details"
   ]
  },
  {
   "cell_type": "code",
   "execution_count": 36,
   "metadata": {},
   "outputs": [],
   "source": [
    "# Keep Max_airmass at 1.6\n",
    "# min_lunar_distance is in DEGREES, keep at 20 degrees\n",
    "\n",
    "LCO_input_constraints = {\n",
    "    'max_airmass': 2.0,\n",
    "    'min_lunar_distance': 20\n",
    "}"
   ]
  },
  {
   "cell_type": "code",
   "execution_count": 37,
   "metadata": {},
   "outputs": [],
   "source": [
    "# This does not need to be changed.\n",
    "# Exposure time is in SECONDS\n",
    "\n",
    "LCO_input_configurations = [\n",
    "    {\n",
    "        'type': 'EXPOSE',\n",
    "        'instrument_type': '0M4-SCICAM-SBIG',\n",
    "        'target': LCO_input_target,\n",
    "        'constraints': LCO_input_constraints,\n",
    "        'acquisition_config': {},\n",
    "        'guiding_config': {},\n",
    "        'instrument_configs': [\n",
    "            {\n",
    "                'exposure_time': 90,\n",
    "                'exposure_count': 1,\n",
    "                'optical_elements': {\n",
    "                    'filter': 'v'\n",
    "                }\n",
    "            }\n",
    "        ]\n",
    "    },\n",
    "    {\n",
    "        'type': 'EXPOSE',\n",
    "        'instrument_type': '0M4-SCICAM-SBIG',\n",
    "        'target': LCO_input_target,\n",
    "        'constraints': LCO_input_constraints,\n",
    "        'acquisition_config': {},\n",
    "        'guiding_config': {},\n",
    "        'instrument_configs': [\n",
    "            {\n",
    "                'exposure_time': 90,\n",
    "                'exposure_count': 1,\n",
    "                'optical_elements': {\n",
    "                    'filter': 'b'\n",
    "                }\n",
    "            }\n",
    "        ]\n",
    "    }\n",
    "]"
   ]
  },
  {
   "cell_type": "code",
   "execution_count": 38,
   "metadata": {},
   "outputs": [],
   "source": [
    "# This cell does not need to be edited.\n",
    "\n",
    "# We do not provide windows for a cadence request\n",
    "LCO_input_windows = []\n",
    "\n",
    "# The telescope class that should be used for this observation\n",
    "LCO_input_location = {\n",
    "    'telescope_class': '0m4'\n",
    "}"
   ]
  },
  {
   "cell_type": "code",
   "execution_count": 39,
   "metadata": {},
   "outputs": [],
   "source": [
    "# Please input the name of your observation request. Eg. Group_Star_Target_B\n",
    "LCO_input_requestgroup = {\n",
    "    'name': 'TestExposure_Target_J',  # The title (group name)\n",
    "    'proposal': PROPOSAL_ID,\n",
    "    'ipp_value': 1.05,\n",
    "    'operator': 'SINGLE',\n",
    "    'observation_type': 'NORMAL',\n",
    "    'requests': [{\n",
    "        'cadence': LCO_input_cadence,\n",
    "        'configurations': LCO_input_configurations,\n",
    "        'windows': LCO_input_windows,\n",
    "        'location': LCO_input_location,\n",
    "    }]\n",
    "}"
   ]
  },
  {
   "cell_type": "markdown",
   "metadata": {},
   "source": [
    "# Check your observation request parameters\n",
    "\n",
    "Below cells allows you to submit your request to LCO to be checked for errors. This does not actually submit the observing to the telescopes. In order to run the below cells, you will need access to the internet to send your requst to LCO to be checked."
   ]
  },
  {
   "cell_type": "code",
   "execution_count": 40,
   "metadata": {},
   "outputs": [],
   "source": [
    "# Given a well formed RequestGroup containing a single Request that has a cadence key, \n",
    "# this endpoint returns a new RequestGroup with multiple Requests generated by the cadence function. \n",
    "\n",
    "response = requests.post(\n",
    "    'https://observe.lco.global/api/requestgroups/cadence/',\n",
    "    headers={'Authorization': 'Token {}'.format(API_TOKEN)},\n",
    "    json=LCO_input_requestgroup  # Make sure you use json!\n",
    ")\n",
    "\n",
    "try:\n",
    "    response.raise_for_status()\n",
    "except requests.exceptions.HTTPError as exc:\n",
    "    print('Request failed: {}'.format(response.content))\n",
    "    raise exc"
   ]
  },
  {
   "cell_type": "code",
   "execution_count": 41,
   "metadata": {},
   "outputs": [
    {
     "name": "stdout",
     "output_type": "stream",
     "text": [
      "Cadence generated 2 requests\n",
      "Request 1 window start: 2022-08-08T22:35:30Z window end: 2022-08-08T22:46:30Z\n",
      "Request 2 window start: 2022-08-08T22:46:30Z window end: 2022-08-08T22:57:30Z\n"
     ]
    }
   ],
   "source": [
    "# Print all the observation requests that will be submitted below in this notebook\n",
    "cadence_request = response.json()\n",
    "\n",
    "print('Cadence generated {} requests'.format(len(cadence_request['requests'])))\n",
    "i = 1\n",
    "for request in cadence_request['requests']:\n",
    "    print('Request {0} window start: {1} window end: {2}'.format(\n",
    "        i, request['windows'][0]['start'], request['windows'][0]['end']\n",
    "    ))\n",
    "    i = i + 1"
   ]
  },
  {
   "cell_type": "code",
   "execution_count": 42,
   "metadata": {
    "scrolled": false
   },
   "outputs": [
    {
     "name": "stdout",
     "output_type": "stream",
     "text": [
      "Total number of observing hours needed for this request:  0.18555555555555556\n"
     ]
    }
   ],
   "source": [
    "# Submit the fully formed RequestGroup to validate it, and see how much observing time it will use. \n",
    "response = requests.post(\n",
    "    'https://observe.lco.global/api/requestgroups/validate/',\n",
    "    headers={'Authorization': 'Token {}'.format(API_TOKEN)},\n",
    "    json=cadence_request  # Make sure you use json!\n",
    ")\n",
    "\n",
    "# Make sure the API call was successful\n",
    "try:\n",
    "    response.raise_for_status()\n",
    "except requests.exceptions.HTTPError as exc:\n",
    "    print('API call failed: {}'.format(response.content))\n",
    "    raise exc\n",
    "\n",
    "requestgroup_dict = response.json()  # The API will return the newly submitted requestgroup as json\n",
    "\n",
    "print('Total number of observing hours needed for this request: ',\n",
    "      requestgroup_dict['request_durations']['duration']/60./60)"
   ]
  },
  {
   "cell_type": "code",
   "execution_count": 43,
   "metadata": {},
   "outputs": [
    {
     "data": {
      "text/plain": [
       "11.133333333333333"
      ]
     },
     "execution_count": 43,
     "metadata": {},
     "output_type": "execute_result"
    }
   ],
   "source": [
    "0.18555555555555556*60"
   ]
  },
  {
   "cell_type": "markdown",
   "metadata": {},
   "source": [
    "# Actually submit the observation\n",
    "\n",
    "You will not be able to do this, as the \"PASEA account\" key does not have permission to submit observations. \n",
    "\n",
    "Once you are happy with your request, Direct Message on Slack Dr. Heidi White with the link to this Google Colab noebook. \n",
    "\n",
    "You can get the link to the notebook by clicking the share button in the upper right of the Colab notebook window and then clicking the copy link button. Send this link via direct message on Slack ot Dr. Heidi White."
   ]
  },
  {
   "cell_type": "code",
   "execution_count": 44,
   "metadata": {},
   "outputs": [
    {
     "name": "stdout",
     "output_type": "stream",
     "text": [
      "View this observing request: https://observe.lco.global/requestgroups/1518856/\n",
      "This request was successfully submitted at 2022-08-09 00:47:04.458064\n"
     ]
    }
   ],
   "source": [
    "response = requests.post(\n",
    "    'https://observe.lco.global/api/requestgroups/',\n",
    "    headers={'Authorization': 'Token {}'.format(API_TOKEN)},\n",
    "    json=cadence_request  # Make sure you use json!\n",
    ")\n",
    "\n",
    "# Make sure this API call was successful\n",
    "try:\n",
    "    response.raise_for_status()\n",
    "except requests.exceptions.HTTPError as exc:\n",
    "    print('Request failed: {}'.format(response.content))\n",
    "    raise exc\n",
    "\n",
    "requestgroup_dict = response.json()\n",
    "\n",
    "# Print out the url on the portal where we can view the submitted request\n",
    "print('View this observing request: https://observe.lco.global/requestgroups/{}/'.format(requestgroup_dict['id']))\n",
    "\n",
    "print('This request was successfully submitted at {}'.format(datetime.datetime.now()))"
   ]
  },
  {
   "cell_type": "code",
   "execution_count": null,
   "metadata": {},
   "outputs": [],
   "source": []
  }
 ],
 "metadata": {
  "kernelspec": {
   "display_name": "Python 3",
   "language": "python",
   "name": "python3"
  },
  "language_info": {
   "codemirror_mode": {
    "name": "ipython",
    "version": 3
   },
   "file_extension": ".py",
   "mimetype": "text/x-python",
   "name": "python",
   "nbconvert_exporter": "python",
   "pygments_lexer": "ipython3",
   "version": "3.6.12"
  }
 },
 "nbformat": 4,
 "nbformat_minor": 2
}
