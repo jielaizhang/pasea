{
 "cells": [
  {
   "cell_type": "code",
   "execution_count": 20,
   "metadata": {},
   "outputs": [],
   "source": [
    "import requests"
   ]
  },
  {
   "cell_type": "markdown",
   "metadata": {},
   "source": [
    "Set up your API token from your profile on observation portal"
   ]
  },
  {
   "cell_type": "code",
   "execution_count": 21,
   "metadata": {},
   "outputs": [],
   "source": [
    "API_TOKEN = 'XXX'\n",
    "PROPOSAL_ID = 'XXX'"
   ]
  },
  {
   "cell_type": "code",
   "execution_count": 22,
   "metadata": {},
   "outputs": [],
   "source": [
    "target = {\n",
    "    'name': 'Stuff',\n",
    "    'type': 'ICRS',\n",
    "    'ra': 35.6371125,\n",
    "    'dec': 42.3483194,\n",
    "    'epoch': 2000\n",
    "}"
   ]
  },
  {
   "cell_type": "code",
   "execution_count": 23,
   "metadata": {},
   "outputs": [],
   "source": [
    "constraints = {\n",
    "    'max_airmass': 1.6,\n",
    "    'min_lunar_distance': 30\n",
    "}"
   ]
  },
  {
   "cell_type": "code",
   "execution_count": 24,
   "metadata": {},
   "outputs": [],
   "source": [
    "configurations = [\n",
    "    {\n",
    "        'type': 'EXPOSE',\n",
    "        'instrument_type': '0M4-SCICAM-SBIG',\n",
    "        'target': target,\n",
    "        'constraints': constraints,\n",
    "        'acquisition_config': {},\n",
    "        'guiding_config': {},\n",
    "        'instrument_configs': [\n",
    "            {\n",
    "                'exposure_time': 30,\n",
    "                'exposure_count': 1,\n",
    "                'optical_elements': {\n",
    "                    'filter': 'v'\n",
    "                }\n",
    "            }\n",
    "        ]\n",
    "    },\n",
    "        {\n",
    "        'type': 'EXPOSE',\n",
    "        'instrument_type': '0M4-SCICAM-SBIG',\n",
    "        'target': target,\n",
    "        'constraints': constraints,\n",
    "        'acquisition_config': {},\n",
    "        'guiding_config': {},\n",
    "        'instrument_configs': [\n",
    "            {\n",
    "                'exposure_time': 30,\n",
    "                'exposure_count': 1,\n",
    "                'optical_elements': {\n",
    "                    'filter': 'b'\n",
    "                }\n",
    "            }\n",
    "        ]\n",
    "    }\n",
    "]"
   ]
  },
  {
   "cell_type": "code",
   "execution_count": 25,
   "metadata": {},
   "outputs": [],
   "source": [
    "# The telescope class that should be used for this observation\n",
    "location = {\n",
    "    'telescope_class': '0m4'\n",
    "}"
   ]
  },
  {
   "cell_type": "code",
   "execution_count": 26,
   "metadata": {},
   "outputs": [],
   "source": [
    "windows = [{'start': '2019-10-01 00:00:00',\n",
    "    'end': '2019-10-30 00:00:00'},\n",
    "         {'start': '2019-11-01 00:00:00',\n",
    "    'end': '2019-11-30 00:00:00'} ]"
   ]
  },
  {
   "cell_type": "code",
   "execution_count": 27,
   "metadata": {},
   "outputs": [],
   "source": [
    "requestgroup = {\n",
    "    'name': 'My Test',  # The title\n",
    "    'proposal': PROPOSAL_ID,\n",
    "    'ipp_value': 1.05,\n",
    "    'operator': 'SINGLE',\n",
    "    'observation_type': 'NORMAL',\n",
    "    'requests': [{\n",
    "        'configurations': configurations,\n",
    "        'windows': windows,\n",
    "        'location': location,\n",
    "    }]\n",
    "}"
   ]
  },
  {
   "cell_type": "code",
   "execution_count": null,
   "metadata": {},
   "outputs": [],
   "source": [
    "# Submit the fully formed RequestGroup\n",
    "response = requests.post(\n",
    "    'https://observe.lco.global/api/requestgroups/validate/',\n",
    "    headers={'Authorization': 'Token {}'.format(API_TOKEN)},\n",
    "    json=requestgroup  # Make sure you use json!\n",
    ")\n",
    "\n",
    "# Make sure the API call was successful\n",
    "try:\n",
    "    response.raise_for_status()\n",
    "except requests.exceptions.HTTPError as exc:\n",
    "    print('API call failed: {}'.format(response.content))\n",
    "    raise exc\n",
    "\n",
    "requestgroup_dict = response.json()  # The API will return the newly submitted requestgroup as json\n",
    "\n",
    "print(requestgroup_dict)"
   ]
  },
  {
   "cell_type": "code",
   "execution_count": 30,
   "metadata": {},
   "outputs": [
    {
     "ename": "KeyError",
     "evalue": "'id'",
     "output_type": "error",
     "traceback": [
      "\u001b[0;31m---------------------------------------------------------------------------\u001b[0m",
      "\u001b[0;31mKeyError\u001b[0m                                  Traceback (most recent call last)",
      "\u001b[0;32m<ipython-input-30-dfda217acd6e>\u001b[0m in \u001b[0;36m<module>\u001b[0;34m\u001b[0m\n\u001b[1;32m     16\u001b[0m \u001b[0;34m\u001b[0m\u001b[0m\n\u001b[1;32m     17\u001b[0m \u001b[0;31m# Print out the url on the portal where we can view the submitted request\u001b[0m\u001b[0;34m\u001b[0m\u001b[0;34m\u001b[0m\u001b[0;34m\u001b[0m\u001b[0m\n\u001b[0;32m---> 18\u001b[0;31m \u001b[0mprint\u001b[0m\u001b[0;34m(\u001b[0m\u001b[0;34m'View the observing request: https://observe.lco.global/requestgroups/{}/'\u001b[0m\u001b[0;34m.\u001b[0m\u001b[0mformat\u001b[0m\u001b[0;34m(\u001b[0m\u001b[0mrequestgroup_dict\u001b[0m\u001b[0;34m[\u001b[0m\u001b[0;34m'id'\u001b[0m\u001b[0;34m]\u001b[0m\u001b[0;34m)\u001b[0m\u001b[0;34m)\u001b[0m\u001b[0;34m\u001b[0m\u001b[0;34m\u001b[0m\u001b[0m\n\u001b[0m",
      "\u001b[0;31mKeyError\u001b[0m: 'id'"
     ]
    }
   ],
   "source": [
    "# Submit the fully formed RequestGroup\n",
    "response = requests.post(\n",
    "    'https://observe.lco.global/api/requestgroups/',\n",
    "    headers={'Authorization': 'Token {}'.format(API_TOKEN)},\n",
    "    json=requestgroup  # Make sure you use json!\n",
    ")\n",
    "\n",
    "# Make sure the API call was successful\n",
    "try:\n",
    "    response.raise_for_status()\n",
    "except requests.exceptions.HTTPError as exc:\n",
    "    print('API call failed: {}'.format(response.content))\n",
    "    raise exc\n",
    "\n",
    "requestgroup_dict = response.json()  # The API will return the newly submitted requestgroup as json\n",
    "\n",
    "# Print out the url on the portal where we can view the submitted request\n",
    "print('View the observing request: https://observe.lco.global/requestgroups/{}/'.format(requestgroup_dict['id']))"
   ]
  },
  {
   "cell_type": "code",
   "execution_count": 31,
   "metadata": {},
   "outputs": [
    {
     "name": "stdout",
     "output_type": "stream",
     "text": [
      "{'request_durations': {'requests': [{'duration': 214, 'configurations': [{'instrument_configs': [{'duration': 44.0}], 'duration': 60.0}, {'instrument_configs': [{'duration': 44.0}], 'duration': 60.0}], 'largest_interval': 30478.824352}], 'duration': 214}, 'errors': {}}\n"
     ]
    }
   ],
   "source": [
    "print(requestgroup_dict)"
   ]
  },
  {
   "cell_type": "code",
   "execution_count": null,
   "metadata": {},
   "outputs": [],
   "source": []
  }
 ],
 "metadata": {
  "kernelspec": {
   "display_name": "Python 3",
   "language": "python",
   "name": "python3"
  },
  "language_info": {
   "codemirror_mode": {
    "name": "ipython",
    "version": 3
   },
   "file_extension": ".py",
   "mimetype": "text/x-python",
   "name": "python",
   "nbconvert_exporter": "python",
   "pygments_lexer": "ipython3",
   "version": "3.6.5"
  }
 },
 "nbformat": 4,
 "nbformat_minor": 2
}
