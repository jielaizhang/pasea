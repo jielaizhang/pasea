{
 "cells": [
  {
   "cell_type": "code",
   "execution_count": null,
   "metadata": {
    "ExecuteTime": {
     "end_time": "2019-08-27T23:25:10.598184Z",
     "start_time": "2019-08-27T23:25:10.592591Z"
    }
   },
   "outputs": [],
   "source": [
    "# pip install photutils\n",
    "# pip install astropy"
   ]
  },
  {
   "cell_type": "code",
   "execution_count": null,
   "metadata": {},
   "outputs": [],
   "source": [
    "import warnings\n",
    "warnings.filterwarnings('ignore')\n",
    "\n",
    "import glob\n",
    "import numpy as np\n",
    "\n",
    "from photutils import Background2D, SExtractorBackground\n",
    "from photutils import DAOStarFinder\n",
    "from photutils import CircularAperture,aperture_photometry\n",
    "from photutils.utils import calc_total_error\n",
    "\n",
    "import astropy.wcs as wcs\n",
    "from astropy.io import fits\n",
    "from astropy.stats import sigma_clipped_stats, SigmaClip\n",
    "from astropy.nddata.utils import Cutout2D\n",
    "from astropy import units as u\n",
    "\n",
    "import matplotlib.pyplot as plt\n",
    "from astropy.visualization import ZScaleInterval"
   ]
  },
  {
   "cell_type": "code",
   "execution_count": null,
   "metadata": {},
   "outputs": [],
   "source": [
    "# Set path to file\n",
    "# This exposure was taken in the B-band. \n",
    "file_input   = '/Users/jielaizhang/Desktop/waissya/WAISSYA_LCO/Target_A/B/coj0m403-kb97-20191006-0058-e91.fits.fz'\n",
    "mypath       = '/Users/jielaizhang/Desktop/waissya/WAISSYA_LCO/Target_A/B/' "
   ]
  },
  {
   "cell_type": "markdown",
   "metadata": {},
   "source": [
    "# Details on target and reference stars"
   ]
  },
  {
   "cell_type": "code",
   "execution_count": null,
   "metadata": {},
   "outputs": [],
   "source": [
    "# Identify the star that you wanted to observe by opening the image in ds9 \n",
    "# by finding the star with the matching RA and DEC\n",
    "# Write down the RA and DEC of your target star here\n",
    "# Check that the star is not saturated.\n",
    "\n",
    "target_RA  = 299.18555\n",
    "target_DEC = -1.0214\n",
    "tar_color  = 'yellow'"
   ]
  },
  {
   "cell_type": "code",
   "execution_count": null,
   "metadata": {},
   "outputs": [],
   "source": [
    "# By looking at one of the exposures in ds9, identify 4-8 round, \n",
    "# bright stars that are not saturated \n",
    "# to use as ref stars.\n",
    "# Write down their RA, DEC below in a list\n",
    "\n",
    "ref_ra  = [299.11433, 299.0763, 299.20659, 299.23568,299.25526]\n",
    "ref_dec = [-0.84994178, -0.94528461, -1.1268563, -1.2084083,-0.98725623]\n",
    "ref_colors = ['white','white', 'white', 'white','white']"
   ]
  },
  {
   "cell_type": "code",
   "execution_count": null,
   "metadata": {},
   "outputs": [],
   "source": [
    "# Download the APASS catalog of this region of the sky from here: \n",
    "# https://www.aavso.org/apass-dr10-download\n",
    "# Identify which sources on the APASS catalog match the RA and DEC of your selected reference stars\n",
    "# Write down the magnitude of your selected reference stars below in a list\n",
    "\n",
    "zpt_instrumental = 25.\n",
    "ref_mag = [12.2291, 12.372, 12.119,9.939,9.246]"
   ]
  },
  {
   "cell_type": "markdown",
   "metadata": {},
   "source": [
    "# Visualize image, target and refernece stars"
   ]
  },
  {
   "cell_type": "markdown",
   "metadata": {},
   "source": [
    "### Visualize a simple \"image\""
   ]
  },
  {
   "cell_type": "code",
   "execution_count": null,
   "metadata": {},
   "outputs": [],
   "source": [
    "simple_image = [[1.,2.,1.3],[1.9,2.3,1.8],[1000,2.1,1.4]]\n",
    "plt.imshow(simple_image)"
   ]
  },
  {
   "cell_type": "code",
   "execution_count": null,
   "metadata": {},
   "outputs": [],
   "source": [
    "simple_image = [[1.,  2., 1.3],\n",
    "                [1.9, 2.3,1.8],\n",
    "                [1000,2.1,1.4]]\n",
    "\n",
    "plt.imshow(simple_image,vmin=1, vmax=3, cmap='gray')"
   ]
  },
  {
   "cell_type": "markdown",
   "metadata": {},
   "source": [
    "### Visualize a single frame"
   ]
  },
  {
   "cell_type": "code",
   "execution_count": null,
   "metadata": {},
   "outputs": [],
   "source": [
    "# Plot the whole image with the reference star and target star marked to see if it all looks ok\n",
    "\n",
    "# Read in the data\n",
    "hdu = fits.open(file_input)\n",
    "sci_data = hdu[1]\n",
    "sci_hdr = sci_data.header\n",
    "\n",
    "# Determine where to mark the reference stars\n",
    "w = wcs.WCS(sci_hdr)\n",
    "xcoord_ref, ycoord_ref = w.all_world2pix(ref_ra,ref_dec,1)\n",
    "xcoord_target, ycoord_target = w.all_world2pix([target_RA],[target_DEC],1)\n",
    "\n",
    "# Get the best vmin and vmax to visualize the image\n",
    "# See why these two values were picked using ds9. \n",
    "interval = ZScaleInterval()\n",
    "vmin = interval.get_limits(sci_data.data)[0]\n",
    "vmax = interval.get_limits(sci_data.data)[1]\n",
    "print('vmin: ',vmin)\n",
    "print('vmax: ',vmax)\n",
    "\n",
    "figure = plt.figure(figsize=(12,24))\n",
    "plt.imshow(sci_data.data, vmin=vmin, vmax=vmax, origin='lower')\n",
    "plt.scatter(xcoord_ref,ycoord_ref,marker='o',\n",
    "            facecolors='none',s=150,linewidth=1,color='white')\n",
    "plt.scatter(xcoord_target,ycoord_target,marker='o',\n",
    "            facecolors='none',s=150,linewidth=1,color='red')"
   ]
  },
  {
   "cell_type": "markdown",
   "metadata": {},
   "source": [
    "# Some useful functions"
   ]
  },
  {
   "cell_type": "code",
   "execution_count": null,
   "metadata": {},
   "outputs": [],
   "source": [
    "# A function that outputs the magnitude of a source, and its error.\n",
    "\n",
    "def do_phot_get_mag(data,hdr,err,ra,dec):\n",
    "    zpt_instrumental = 25.\n",
    "    w         = wcs.WCS(hdr)\n",
    "    xcoords, ycoords = w.all_world2pix(ra,dec,1)\n",
    "    positions = np.transpose((xcoords, ycoords))\n",
    "    apertures = CircularAperture(positions, r=24.)\n",
    "    phot      = aperture_photometry(data, apertures, error=err)\n",
    "\n",
    "    mag     = list(-2.5*np.log10(phot['aperture_sum']) + zpt_instrumental)\n",
    "    mag_err = list((2.5/np.log(10))*(phot['aperture_sum_err']/phot['aperture_sum']))\n",
    "    \n",
    "    return mag,mag_err"
   ]
  },
  {
   "cell_type": "code",
   "execution_count": null,
   "metadata": {},
   "outputs": [],
   "source": [
    "# A function that outputs a small cutout of an image given a big image. \n",
    "\n",
    "def make_cutout(data,hdr,ra,dec):\n",
    "\n",
    "    w = wcs.WCS(hdr)\n",
    "    xcoord, ycoord = w.all_world2pix(ra,dec,1)\n",
    "    position = np.transpose((xcoord, ycoord))\n",
    "    size = u.Quantity([120, 120], u.pixel)\n",
    "    cutout = Cutout2D(data, position, size, wcs=w, mode='strict')\n",
    "\n",
    "    cutout_wcs = cutout.wcs\n",
    "    header = cutout_wcs.to_header()\n",
    "    hdu = fits.PrimaryHDU(data=cutout.data, header=header)\n",
    "\n",
    "    return hdu"
   ]
  },
  {
   "cell_type": "markdown",
   "metadata": {},
   "source": [
    "# Try to calcualte the magnitude of the target star in one frame. "
   ]
  },
  {
   "cell_type": "markdown",
   "metadata": {},
   "source": [
    "### 1. Open the frame and read out the data, header and time of observation"
   ]
  },
  {
   "cell_type": "code",
   "execution_count": null,
   "metadata": {},
   "outputs": [],
   "source": [
    "# Read in file\n",
    "hdu = fits.open(file_input)\n",
    "\n",
    "# Grab the actual science data based on above.\n",
    "sci_data = hdu[1]\n",
    "sci_hdr = sci_data.header\n",
    "time = sci_hdr['MJD-OBS']"
   ]
  },
  {
   "cell_type": "markdown",
   "metadata": {},
   "source": [
    "### Exercise"
   ]
  },
  {
   "cell_type": "code",
   "execution_count": null,
   "metadata": {},
   "outputs": [],
   "source": [
    "# Print the time of observation of this exposure\n"
   ]
  },
  {
   "cell_type": "markdown",
   "metadata": {},
   "source": [
    "### 2. Get the background of the image and subtract it; Calculate the error associated with the background."
   ]
  },
  {
   "cell_type": "code",
   "execution_count": null,
   "metadata": {},
   "outputs": [],
   "source": [
    "# Background estimation:\n",
    "sigma_clip = SigmaClip(sigma=3.) # Sigma clip bright obvious things to avoid biasing the background estimate\n",
    "bkg_estimator = SExtractorBackground() # Apply the SExtractor algorithm to our estimation\n",
    "bkg = Background2D(\n",
    "    sci_data.data, (50, 50),\n",
    "    filter_size=(3, 3),\n",
    "    sigma_clip=sigma_clip,\n",
    "    bkg_estimator=bkg_estimator)\n",
    "\n",
    "# Now let's subtract the background from the data\n",
    "sci_bkg = sci_data.data - bkg.background\n",
    "\n",
    "# Define an error image that will be used when calculating photometry\n",
    "effective_gain = 1.\n",
    "error = calc_total_error(sci_bkg, bkg.background_rms, effective_gain)"
   ]
  },
  {
   "cell_type": "markdown",
   "metadata": {},
   "source": [
    "### Exercise"
   ]
  },
  {
   "cell_type": "code",
   "execution_count": null,
   "metadata": {},
   "outputs": [],
   "source": [
    "# Show the background to see what it looks like\n",
    "\n",
    "interval = ZScaleInterval()\n",
    "vmin = interval.get_limits(bkg.background)[0]\n",
    "vmax = interval.get_limits(bkg.background)[1]\n",
    "print('vmin: ',vmin)\n",
    "print('vmax: ',vmax)\n",
    "\n",
    "figure = plt.figure(figsize=(12,24))\n",
    "plt.imshow(bkg.background, vmin=vmin, vmax=vmax, origin='lower')\n",
    "plt.scatter(xcoord_ref,ycoord_ref,marker='o',\n",
    "            facecolors='none',s=150,linewidth=1,color='white')\n",
    "plt.scatter(xcoord_target,ycoord_target,marker='o',\n",
    "            facecolors='none',s=150,linewidth=1,color='red')"
   ]
  },
  {
   "cell_type": "markdown",
   "metadata": {},
   "source": [
    "### Exercise"
   ]
  },
  {
   "cell_type": "code",
   "execution_count": null,
   "metadata": {},
   "outputs": [],
   "source": [
    "# Show the background subtracted image and see what it looks like\n"
   ]
  },
  {
   "cell_type": "markdown",
   "metadata": {},
   "source": [
    "### 3. For the target star and each reference star, carry out photometry. Be sure to use the background subtracted image. This step should output an error of the photmetry measurement. "
   ]
  },
  {
   "cell_type": "code",
   "execution_count": null,
   "metadata": {},
   "outputs": [],
   "source": [
    "# Calculate instrumental mags for each of the reference stars\n",
    "ref_instr_mag,ref_instr_mag_err = do_phot_get_mag(sci_bkg,sci_hdr,error,ref_ra,ref_dec)\n",
    "\n",
    "# Do photometry on the variable target\n",
    "tar_mag,tar_mag_err = do_phot_get_mag(sci_bkg,sci_hdr,error,target_RA,target_DEC)"
   ]
  },
  {
   "cell_type": "markdown",
   "metadata": {},
   "source": [
    "### 4. Find the magnitude offset between the reference stars and the catalog magnitudes and calculate the magnitude of the target star, and its error. "
   ]
  },
  {
   "cell_type": "code",
   "execution_count": null,
   "metadata": {},
   "outputs": [],
   "source": [
    "# Calculate offsets and the standard deviation of the offset from each star.\n",
    "offsets = []\n",
    "for i in range(len(ref_instr_mag)):\n",
    "    offsets.append(ref_mag[i] - ref_instr_mag[i])\n",
    "offset = np.mean(offsets)\n",
    "offset_err = np.std(offsets)\n",
    "\n",
    "cal_tar_mag = tar_mag[0]+offset\n",
    "cal_tar_mag_err = np.sqrt(tar_mag_err[0]**2.+offset_err**2.)"
   ]
  },
  {
   "cell_type": "markdown",
   "metadata": {},
   "source": [
    "### Exercise"
   ]
  },
  {
   "cell_type": "code",
   "execution_count": null,
   "metadata": {},
   "outputs": [],
   "source": [
    "# Print the magnitude of your target (saved under variable calibrated target magnitude: cal_tar_mag)\n",
    "\n"
   ]
  },
  {
   "cell_type": "markdown",
   "metadata": {},
   "source": [
    "# Make a tiny cutout around the star"
   ]
  },
  {
   "cell_type": "code",
   "execution_count": null,
   "metadata": {},
   "outputs": [],
   "source": [
    "# Make tiny cutouts of the variable star in each frame\n",
    "cutout_hdu = make_cutout(sci_bkg,sci_hdr,target_RA,target_DEC)\n",
    "#cutout_hdu.writeto(frame+'_cutout.fits', overwrite=True)\n",
    "\n",
    "# Plot figures using these cutouts and output images\n",
    "interval = ZScaleInterval()\n",
    "vmin = interval.get_limits(cutout_hdu.data)[0]\n",
    "vmax = interval.get_limits(cutout_hdu.data)[1]\n",
    "\n",
    "plt.subplot(projection=wcs.WCS(cutout_hdu.header))\n",
    "plt.imshow(cutout_hdu.data, vmin=vmin, vmax=vmax, origin='lower')\n",
    "plt.xlabel('R.A.')\n",
    "plt.ylabel('Declination')\n",
    "\n",
    "# Save the small cutout as a png, with the file name as the time of observation. \n",
    "# This can be used later to make a movie of your source\n",
    "pngname = str(time).replace('.','')\n",
    "plt.savefig(mypath+pngname+'.png', overwrite=True)"
   ]
  },
  {
   "cell_type": "code",
   "execution_count": null,
   "metadata": {},
   "outputs": [],
   "source": []
  }
 ],
 "metadata": {
  "kernelspec": {
   "display_name": "Python 3",
   "language": "python",
   "name": "python3"
  },
  "language_info": {
   "codemirror_mode": {
    "name": "ipython",
    "version": 3
   },
   "file_extension": ".py",
   "mimetype": "text/x-python",
   "name": "python",
   "nbconvert_exporter": "python",
   "pygments_lexer": "ipython3",
   "version": "3.6.5"
  },
  "toc": {
   "base_numbering": 1,
   "nav_menu": {},
   "number_sections": true,
   "sideBar": true,
   "skip_h1_title": false,
   "title_cell": "Table of Contents",
   "title_sidebar": "Contents",
   "toc_cell": false,
   "toc_position": {},
   "toc_section_display": true,
   "toc_window_display": false
  }
 },
 "nbformat": 4,
 "nbformat_minor": 2
}
