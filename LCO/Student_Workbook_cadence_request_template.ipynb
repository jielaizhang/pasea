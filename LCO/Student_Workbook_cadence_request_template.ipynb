{
 "cells": [
  {
   "cell_type": "code",
   "execution_count": null,
   "metadata": {},
   "outputs": [],
   "source": [
    "import requests\n",
    "import numpy as np\n",
    "import datetime"
   ]
  },
  {
   "cell_type": "markdown",
   "metadata": {},
   "source": [
    "Set up your API token from your profile on observation portal"
   ]
  },
  {
   "cell_type": "code",
   "execution_count": null,
   "metadata": {},
   "outputs": [],
   "source": [
    "API_TOKEN = 'XXX'\n",
    "PROPOSAL_ID = 'LCOEPO2019A-001'"
   ]
  },
  {
   "cell_type": "code",
   "execution_count": null,
   "metadata": {},
   "outputs": [],
   "source": [
    "# Determine when the observations are to take place\n",
    "# The period is NOT the period of the variable. \n",
    "# The period is the cadence at which you want to observe, in HOURS\n",
    "# The Jitter is the window within which your observation may take place. \n",
    "\n",
    "target_known_period = 'XXX'\n",
    "observation_period = 'XXX'\n",
    "\n",
    "# Want jitter to equal period to \"fully cover\" time\n",
    "jitter = observation_period\n",
    "\n",
    "cadence = {\n",
    "    'start': '2019-10-05 18:00:00',\n",
    "    'end': '2019-10-06 05:00:00',\n",
    "    'period': observation_period,\n",
    "    'jitter': jitter\n",
    "}"
   ]
  },
  {
   "cell_type": "code",
   "execution_count": null,
   "metadata": {},
   "outputs": [],
   "source": [
    "target = {\n",
    "    'name': 'Target_XXX',\n",
    "    'type': 'ICRS',\n",
    "    'ra': 'XXX',\n",
    "    'dec': 'XXX',\n",
    "    'epoch': 2000\n",
    "}"
   ]
  },
  {
   "cell_type": "code",
   "execution_count": null,
   "metadata": {},
   "outputs": [],
   "source": [
    "# Keep Max_airmass at 1.6\n",
    "# min_lunar_distance is in DEGREES, keep at 20 degrees\n",
    "\n",
    "constraints = {\n",
    "    'max_airmass': 2.0,\n",
    "    'min_lunar_distance': 20\n",
    "}"
   ]
  },
  {
   "cell_type": "code",
   "execution_count": null,
   "metadata": {},
   "outputs": [],
   "source": [
    "# This does not need to be changed.\n",
    "# Exposure time is in SECONDS\n",
    "\n",
    "configurations = [\n",
    "    {\n",
    "        'type': 'EXPOSE',\n",
    "        'instrument_type': '0M4-SCICAM-SBIG',\n",
    "        'target': target,\n",
    "        'constraints': constraints,\n",
    "        'acquisition_config': {},\n",
    "        'guiding_config': {},\n",
    "        'instrument_configs': [\n",
    "            {\n",
    "                'exposure_time': 90,\n",
    "                'exposure_count': 1,\n",
    "                'optical_elements': {\n",
    "                    'filter': 'v'\n",
    "                }\n",
    "            }\n",
    "        ]\n",
    "    },\n",
    "    {\n",
    "        'type': 'EXPOSE',\n",
    "        'instrument_type': '0M4-SCICAM-SBIG',\n",
    "        'target': target,\n",
    "        'constraints': constraints,\n",
    "        'acquisition_config': {},\n",
    "        'guiding_config': {},\n",
    "        'instrument_configs': [\n",
    "            {\n",
    "                'exposure_time': 90,\n",
    "                'exposure_count': 1,\n",
    "                'optical_elements': {\n",
    "                    'filter': 'b'\n",
    "                }\n",
    "            }\n",
    "        ]\n",
    "    }\n",
    "]"
   ]
  },
  {
   "cell_type": "code",
   "execution_count": null,
   "metadata": {},
   "outputs": [],
   "source": [
    "# This cell does not need to be edited.\n",
    "\n",
    "# We do not provide windows for a cadence request\n",
    "windows = []\n",
    "\n",
    "# The telescope class that should be used for this observation\n",
    "location = {\n",
    "    'telescope_class': '0m4'\n",
    "}"
   ]
  },
  {
   "cell_type": "code",
   "execution_count": null,
   "metadata": {},
   "outputs": [],
   "source": [
    "# Please input the name of your observation request. Eg. Group_Star_Target_B\n",
    "requestgroup = {\n",
    "    'name': 'XXX',  # The title (group name)\n",
    "    'proposal': PROPOSAL_ID,\n",
    "    'ipp_value': 1.05,\n",
    "    'operator': 'SINGLE',\n",
    "    'observation_type': 'NORMAL',\n",
    "    'requests': [{\n",
    "        'cadence': cadence,\n",
    "        'configurations': configurations,\n",
    "        'windows': windows,\n",
    "        'location': location,\n",
    "    }]\n",
    "}"
   ]
  },
  {
   "cell_type": "markdown",
   "metadata": {},
   "source": [
    "# Below cells allows you to submit your request to LCO to be checked for errors. This does not actually submit the observing to the telescopes. In order to run the below cells, you will need access to the internet to send your requst to LCO to be checked."
   ]
  },
  {
   "cell_type": "code",
   "execution_count": null,
   "metadata": {},
   "outputs": [],
   "source": [
    "response = requests.post(\n",
    "    'https://observe.lco.global/api/requestgroups/cadence/',\n",
    "    headers={'Authorization': 'Token {}'.format(API_TOKEN)},\n",
    "    json=requestgroup  # Make sure you use json!\n",
    ")"
   ]
  },
  {
   "cell_type": "code",
   "execution_count": null,
   "metadata": {},
   "outputs": [],
   "source": [
    "try:\n",
    "    response.raise_for_status()\n",
    "except requests.exceptions.HTTPError as exc:\n",
    "    print('Request failed: {}'.format(response.content))\n",
    "    raise exc"
   ]
  },
  {
   "cell_type": "code",
   "execution_count": null,
   "metadata": {},
   "outputs": [],
   "source": [
    "cadence_request = response.json()\n",
    "\n",
    "print('Cadence generated {} requests'.format(len(cadence_request['requests'])))\n",
    "i = 1\n",
    "for request in cadence_request['requests']:\n",
    "    print('Request {0} window start: {1} window end: {2}'.format(\n",
    "        i, request['windows'][0]['start'], request['windows'][0]['end']\n",
    "    ))\n",
    "    i = i + 1"
   ]
  },
  {
   "cell_type": "code",
   "execution_count": null,
   "metadata": {
    "scrolled": false
   },
   "outputs": [],
   "source": [
    "# Submit the fully formed RequestGroup\n",
    "response = requests.post(\n",
    "    'https://observe.lco.global/api/requestgroups/validate/',\n",
    "    headers={'Authorization': 'Token {}'.format(API_TOKEN)},\n",
    "    json=cadence_request  # Make sure you use json!\n",
    ")\n",
    "\n",
    "# Make sure the API call was successful\n",
    "try:\n",
    "    response.raise_for_status()\n",
    "except requests.exceptions.HTTPError as exc:\n",
    "    print('API call failed: {}'.format(response.content))\n",
    "    raise exc\n",
    "\n",
    "requestgroup_dict = response.json()  # The API will return the newly submitted requestgroup as json\n",
    "\n",
    "print('Total number of observing hours needed for this request: ',\n",
    "      requestgroup_dict['request_durations']['duration']/60./60)"
   ]
  },
  {
   "cell_type": "code",
   "execution_count": null,
   "metadata": {},
   "outputs": [],
   "source": []
  },
  {
   "cell_type": "markdown",
   "metadata": {},
   "source": [
    "# Once you have everything looking fine, please find an instructor to check it and they will submit the request together with you if internet is available, or for you later if the internet is not currently available. "
   ]
  },
  {
   "cell_type": "code",
   "execution_count": null,
   "metadata": {},
   "outputs": [],
   "source": []
  }
 ],
 "metadata": {
  "kernelspec": {
   "display_name": "Python 3",
   "language": "python",
   "name": "python3"
  },
  "language_info": {
   "codemirror_mode": {
    "name": "ipython",
    "version": 3
   },
   "file_extension": ".py",
   "mimetype": "text/x-python",
   "name": "python",
   "nbconvert_exporter": "python",
   "pygments_lexer": "ipython3",
   "version": "3.6.5"
  }
 },
 "nbformat": 4,
 "nbformat_minor": 2
}
