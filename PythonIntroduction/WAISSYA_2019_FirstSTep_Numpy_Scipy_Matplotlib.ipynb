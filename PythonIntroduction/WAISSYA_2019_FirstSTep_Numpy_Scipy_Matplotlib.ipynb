{
 "cells": [
  {
   "cell_type": "markdown",
   "metadata": {},
   "source": [
    "This tutorial covers the basics of python programming. It introduces some of the built-in python module and how to use them.\n",
    "\n",
    "Author: Collab."
   ]
  },
  {
   "cell_type": "markdown",
   "metadata": {},
   "source": [
    "# The Numpy Array Object"
   ]
  },
  {
   "cell_type": "markdown",
   "metadata": {},
   "source": [
    "Numpy is a fundamental scientific package (module) for multi-dimensional arrays. Arrays are similar to lists, but the elements of an array must be of the same type, e.g, float, int or string. To begin with, we need to import the numpy package. In most cases np is used as an abbreviation for numpy."
   ]
  },
  {
   "cell_type": "code",
   "execution_count": null,
   "metadata": {},
   "outputs": [],
   "source": [
    "import numpy as np"
   ]
  },
  {
   "cell_type": "markdown",
   "metadata": {},
   "source": [
    "## Creating Numpy Arrays"
   ]
  },
  {
   "cell_type": "markdown",
   "metadata": {},
   "source": [
    "Numpy arrays can be created in various fashions. They can be created manually or initialised using the in-built functions, e.g np.array(), np.zeros(), np.ones(), np.arange(), np.linspace, np.indices. The in-built function np.array does not require any parameter and it returns an empty array. Given the desired shape, np.zeros returns an array filled with zeros. For instance, np.zeros((2,2)) returns a 2×2 array filled with zeros. Other parameters also can be included such as type and order; they are optional paremters. Same applies to np.ones, but now the array is filled with ones instead. np.arange takes start, stop and step values as parameters. It returns an array with regularly specified incrementing values, the default start is 0 and the default increment is 1. np.linspace returns an array with evenly spaced elements over a specified interval. np.indices() acts like a grid, it returns an array representing the indices of a grid."
   ]
  },
  {
   "cell_type": "markdown",
   "metadata": {},
   "source": [
    "Let us give it a try!"
   ]
  },
  {
   "cell_type": "code",
   "execution_count": null,
   "metadata": {},
   "outputs": [],
   "source": [
    "A= np.array([[2,3,4],[6,7,8]],dtype='int')\n",
    "A"
   ]
  },
  {
   "cell_type": "code",
   "execution_count": null,
   "metadata": {},
   "outputs": [],
   "source": [
    "B = np.zeros((2,3))\n",
    "B"
   ]
  },
  {
   "cell_type": "code",
   "execution_count": null,
   "metadata": {},
   "outputs": [],
   "source": [
    "C = np.ones((2,4),dtype='float')\n",
    "C"
   ]
  },
  {
   "cell_type": "code",
   "execution_count": null,
   "metadata": {},
   "outputs": [],
   "source": [
    "D = np.arange(2,10)\n",
    "D"
   ]
  },
  {
   "cell_type": "code",
   "execution_count": null,
   "metadata": {},
   "outputs": [],
   "source": [
    "E = np.linspace(0,1,30)\n",
    "E"
   ]
  },
  {
   "cell_type": "code",
   "execution_count": null,
   "metadata": {},
   "outputs": [],
   "source": [
    "F = np.indices((3,3))\n",
    "F"
   ]
  },
  {
   "cell_type": "markdown",
   "metadata": {},
   "source": [
    "Once we have initialised an array, we can get hold of its shape, dimension and type of the elements."
   ]
  },
  {
   "cell_type": "markdown",
   "metadata": {},
   "source": [
    "A.shape: shape of array A"
   ]
  },
  {
   "cell_type": "markdown",
   "metadata": {},
   "source": [
    "A.ndim: dimension of array A"
   ]
  },
  {
   "cell_type": "markdown",
   "metadata": {},
   "source": [
    "A.dtype: type of the elements in array A"
   ]
  },
  {
   "cell_type": "code",
   "execution_count": null,
   "metadata": {},
   "outputs": [],
   "source": [
    "A.shape, A.ndim, A.dtype"
   ]
  },
  {
   "cell_type": "markdown",
   "metadata": {},
   "source": [
    "## Array Manipulation"
   ]
  },
  {
   "cell_type": "markdown",
   "metadata": {},
   "source": [
    "### Basic Operations"
   ]
  },
  {
   "cell_type": "markdown",
   "metadata": {},
   "source": [
    "Numpy arrays basically behave similar to matrices but they are not matrices. The basic operations such as addition, subtraction and multiplication can be easily performed on them. Note that if it is a binary operation, then the numpy arrays involved must be of the same shape."
   ]
  },
  {
   "cell_type": "code",
   "execution_count": null,
   "metadata": {},
   "outputs": [],
   "source": [
    "A = np.array([(1,7,3),(4,5,6)]) ;B = np.array([(8,12,1),(6,9,11)])\n",
    "A ** 2 #Squaring the elements in the array"
   ]
  },
  {
   "cell_type": "code",
   "execution_count": null,
   "metadata": {},
   "outputs": [],
   "source": [
    "A + B # Adding two numpy array"
   ]
  },
  {
   "cell_type": "code",
   "execution_count": null,
   "metadata": {},
   "outputs": [],
   "source": [
    "A - B # Subtracting two numpy arrays"
   ]
  },
  {
   "cell_type": "code",
   "execution_count": null,
   "metadata": {},
   "outputs": [],
   "source": [
    "A * B # Elementwise multiplication of two numpy arrays"
   ]
  },
  {
   "cell_type": "code",
   "execution_count": null,
   "metadata": {},
   "outputs": [],
   "source": [
    "np.dot(A,B.T) # matrix multiplication; B.T returns the transpose of B"
   ]
  },
  {
   "cell_type": "markdown",
   "metadata": {},
   "source": [
    "### Shape Manipulation"
   ]
  },
  {
   "cell_type": "markdown",
   "metadata": {},
   "source": [
    "The shape of a numpy array is given by the number of elements along the individual axis and it can be manipulated through various commands."
   ]
  },
  {
   "cell_type": "code",
   "execution_count": null,
   "metadata": {},
   "outputs": [],
   "source": [
    "A = np.arange(8) # one dimensional array of shape (8,)"
   ]
  },
  {
   "cell_type": "code",
   "execution_count": null,
   "metadata": {},
   "outputs": [],
   "source": [
    "B = np.arange(2,10) # one dimensional array of shape (8,)"
   ]
  },
  {
   "cell_type": "code",
   "execution_count": null,
   "metadata": {},
   "outputs": [],
   "source": [
    "A.reshape(4,2) #changing the shape of A to (4,2)"
   ]
  },
  {
   "cell_type": "code",
   "execution_count": null,
   "metadata": {},
   "outputs": [],
   "source": [
    "np.concatenate((A,B),axis=0) #concatening two one-dimensional numpy arrays"
   ]
  },
  {
   "cell_type": "code",
   "execution_count": null,
   "metadata": {},
   "outputs": [],
   "source": [
    "np.hstack((A,B)) #stack arrays in sequence horizontally (column wise); similar to concatenate"
   ]
  },
  {
   "cell_type": "code",
   "execution_count": null,
   "metadata": {},
   "outputs": [],
   "source": [
    "np.vstack((A,B)) #stack arrays in sequence horizontally (row wise)."
   ]
  },
  {
   "cell_type": "code",
   "execution_count": null,
   "metadata": {},
   "outputs": [],
   "source": [
    "np.dstack((A,B)) #stack arrays in sequence depth wise (along third dimension)"
   ]
  },
  {
   "cell_type": "code",
   "execution_count": null,
   "metadata": {},
   "outputs": [],
   "source": [
    "C = A.reshape(2,4) #reshaping the array\n",
    "print (C)\n",
    "np.vsplit(C,2) # spliting the array into subarrays"
   ]
  },
  {
   "cell_type": "code",
   "execution_count": null,
   "metadata": {},
   "outputs": [],
   "source": [
    "np.append(A,17) #adding a value (17) at the end of array A"
   ]
  },
  {
   "cell_type": "code",
   "execution_count": null,
   "metadata": {},
   "outputs": [],
   "source": [
    "np.append(17,A) #adding a value (17) at the beginning of array A"
   ]
  },
  {
   "cell_type": "code",
   "execution_count": null,
   "metadata": {},
   "outputs": [],
   "source": [
    "np.append(C,10) #appending an element to a (4,2) array. This returns a 1-dimensional array"
   ]
  },
  {
   "cell_type": "markdown",
   "metadata": {},
   "source": [
    "### Indexing and Slicing"
   ]
  },
  {
   "cell_type": "markdown",
   "metadata": {},
   "source": [
    "Indexing refers to the process of assigning indinces or positions of an elemnt in the array. Slicing is taking out a desired portion or subarray of the array. The basic slice syntax is $i:j:k$ where $i$ is the starting index, $j$ is the stopping index, and $k$ is the step ($k≠0$). The starting index is zero and the end index is $n−1$ for an n-dimensional array."
   ]
  },
  {
   "cell_type": "code",
   "execution_count": null,
   "metadata": {},
   "outputs": [],
   "source": [
    "A = np.array([(2,4,5,6),(7,10,23,13),(45,0,23,5)])"
   ]
  },
  {
   "cell_type": "code",
   "execution_count": null,
   "metadata": {},
   "outputs": [],
   "source": [
    "A[0] # returns the first row of the array"
   ]
  },
  {
   "cell_type": "code",
   "execution_count": null,
   "metadata": {},
   "outputs": [],
   "source": [
    "A[0,:] #returns the first row of the array"
   ]
  },
  {
   "cell_type": "code",
   "execution_count": null,
   "metadata": {},
   "outputs": [],
   "source": [
    "A[:,1] #returns the second column of the array"
   ]
  },
  {
   "cell_type": "code",
   "execution_count": null,
   "metadata": {},
   "outputs": [],
   "source": [
    "A[:,-1] #returns the last column of the array"
   ]
  },
  {
   "cell_type": "code",
   "execution_count": null,
   "metadata": {},
   "outputs": [],
   "source": [
    "A[0,0] #returns the first element of the array"
   ]
  },
  {
   "cell_type": "code",
   "execution_count": null,
   "metadata": {},
   "outputs": [],
   "source": [
    "A[0:2,1:3] # returns subarray ranging from first to second row and second to third column  "
   ]
  },
  {
   "cell_type": "markdown",
   "metadata": {},
   "source": [
    "The dimension of the array can be increased by using new axis."
   ]
  },
  {
   "cell_type": "code",
   "execution_count": null,
   "metadata": {},
   "outputs": [],
   "source": [
    "a = A[np.newaxis,:]\n",
    "b = A[:,np.newaxis]\n",
    "a.shape, b.shape"
   ]
  },
  {
   "cell_type": "markdown",
   "metadata": {},
   "source": [
    "### Statistical Functions"
   ]
  },
  {
   "cell_type": "code",
   "execution_count": null,
   "metadata": {},
   "outputs": [],
   "source": [
    "np.average(A) #returns the average value"
   ]
  },
  {
   "cell_type": "code",
   "execution_count": null,
   "metadata": {},
   "outputs": [],
   "source": [
    "np.mean(A) #returns the mean value"
   ]
  },
  {
   "cell_type": "code",
   "execution_count": null,
   "metadata": {},
   "outputs": [],
   "source": [
    "np.median(A) #returns the median"
   ]
  },
  {
   "cell_type": "code",
   "execution_count": null,
   "metadata": {},
   "outputs": [],
   "source": [
    "np.var(A) # returns the variance"
   ]
  },
  {
   "cell_type": "code",
   "execution_count": null,
   "metadata": {},
   "outputs": [],
   "source": [
    "np.std(A) #returns the standard deviation"
   ]
  },
  {
   "cell_type": "code",
   "execution_count": null,
   "metadata": {},
   "outputs": [],
   "source": [
    "np.cov(A) #returns the covariance"
   ]
  },
  {
   "cell_type": "markdown",
   "metadata": {},
   "source": [
    "### Linear Algebra Functions"
   ]
  },
  {
   "cell_type": "code",
   "execution_count": null,
   "metadata": {},
   "outputs": [],
   "source": [
    "a = np.array([(2,3),(4,5)])\n",
    "b = np.array([(7,1),(3,9)])"
   ]
  },
  {
   "cell_type": "code",
   "execution_count": null,
   "metadata": {},
   "outputs": [],
   "source": [
    "np.inner(a,b) #returns the inner product of two arrays"
   ]
  },
  {
   "cell_type": "code",
   "execution_count": null,
   "metadata": {},
   "outputs": [],
   "source": [
    "np.kron(a,b) #Kronecker product of two array"
   ]
  },
  {
   "cell_type": "code",
   "execution_count": null,
   "metadata": {},
   "outputs": [],
   "source": [
    "np.linalg.eig(a) #returns the eingenvalues and right eigenvectors of a square array"
   ]
  },
  {
   "cell_type": "code",
   "execution_count": null,
   "metadata": {},
   "outputs": [],
   "source": [
    "np.linalg.eigh(a) #returns the eigenvalues and eigenvectors of a Hermitian or symmetric matrix"
   ]
  },
  {
   "cell_type": "code",
   "execution_count": null,
   "metadata": {},
   "outputs": [],
   "source": [
    "np.linalg.eigvals(a) #returns the eigenvalues of a matrix"
   ]
  },
  {
   "cell_type": "code",
   "execution_count": null,
   "metadata": {},
   "outputs": [],
   "source": [
    "np.linalg.eigvalsh(a) #returns the eigenvalues of a Hermitian or symmetric matrix"
   ]
  },
  {
   "cell_type": "code",
   "execution_count": null,
   "metadata": {},
   "outputs": [],
   "source": [
    "np.linalg.det(a) #computes the determinant of the matrix"
   ]
  },
  {
   "cell_type": "code",
   "execution_count": null,
   "metadata": {},
   "outputs": [],
   "source": [
    "np.trace(a) #returns the trace of the matrix"
   ]
  },
  {
   "cell_type": "code",
   "execution_count": null,
   "metadata": {},
   "outputs": [],
   "source": [
    "np.linalg.inv(a) #returns the inverse of the matrix"
   ]
  },
  {
   "cell_type": "markdown",
   "metadata": {},
   "source": [
    "### Other Functions"
   ]
  },
  {
   "cell_type": "code",
   "execution_count": null,
   "metadata": {},
   "outputs": [],
   "source": [
    "A = np.array([3,6,3,1,7,4,2,8])\n",
    "np.copy(A) # returns a copy of the array"
   ]
  },
  {
   "cell_type": "code",
   "execution_count": null,
   "metadata": {},
   "outputs": [],
   "source": [
    "np.sort(A) # sorting the array in ascending order"
   ]
  },
  {
   "cell_type": "code",
   "execution_count": null,
   "metadata": {},
   "outputs": [],
   "source": [
    "np.sort(A)[::-1] # sorting the array in descending order"
   ]
  },
  {
   "cell_type": "code",
   "execution_count": null,
   "metadata": {},
   "outputs": [],
   "source": [
    "np.argsort(A) #returns the indices that would sort an array."
   ]
  },
  {
   "cell_type": "code",
   "execution_count": null,
   "metadata": {},
   "outputs": [],
   "source": [
    "np.min(A) #returns the maximum element"
   ]
  },
  {
   "cell_type": "code",
   "execution_count": null,
   "metadata": {},
   "outputs": [],
   "source": [
    "np.max(A) #returns the maximum element"
   ]
  },
  {
   "cell_type": "code",
   "execution_count": null,
   "metadata": {},
   "outputs": [],
   "source": [
    "np.argmax(A) #returns the index of the maximum element"
   ]
  },
  {
   "cell_type": "code",
   "execution_count": null,
   "metadata": {},
   "outputs": [],
   "source": [
    "np.argwhere(A>3) #returns all the indices whose values are greater than 3 "
   ]
  },
  {
   "cell_type": "code",
   "execution_count": null,
   "metadata": {},
   "outputs": [],
   "source": [
    "np.mat(A) #returns matrix format of the array"
   ]
  },
  {
   "cell_type": "code",
   "execution_count": null,
   "metadata": {},
   "outputs": [],
   "source": [
    "np.sum(A) #returns the sum of all the elements"
   ]
  },
  {
   "cell_type": "code",
   "execution_count": null,
   "metadata": {},
   "outputs": [],
   "source": [
    "np.cumsum(A) #returns the sum of all the elements"
   ]
  },
  {
   "cell_type": "code",
   "execution_count": null,
   "metadata": {},
   "outputs": [],
   "source": [
    "np.prod(A) #returns the product of all the elements"
   ]
  },
  {
   "cell_type": "markdown",
   "metadata": {},
   "source": [
    "# Matplotlib Pyplot- 2D Plotting"
   ]
  },
  {
   "cell_type": "markdown",
   "metadata": {},
   "source": [
    "Matplotlib is a python plotting library with excellent 2D and 3D graphics."
   ]
  },
  {
   "cell_type": "markdown",
   "metadata": {},
   "source": [
    "We need to import matplotlib library to be able to access the library."
   ]
  },
  {
   "cell_type": "code",
   "execution_count": null,
   "metadata": {},
   "outputs": [],
   "source": [
    "%matplotlib inline\n",
    "import matplotlib.pyplot as plt"
   ]
  },
  {
   "cell_type": "markdown",
   "metadata": {},
   "source": [
    "## Simple Plots"
   ]
  },
  {
   "cell_type": "code",
   "execution_count": null,
   "metadata": {},
   "outputs": [],
   "source": [
    "x = np.linspace(0,3,100)\n",
    "y = np.sin(x)\n",
    "plt.xlabel('x')\n",
    "plt.ylabel('sin x')\n",
    "plt.plot(x,y)\n",
    "plt.show()"
   ]
  },
  {
   "cell_type": "markdown",
   "metadata": {},
   "source": [
    "The sin curve can be enhanced in various fashion. By default, the color is blue and the marker is a straight line. The basic in-built colors in matplotlib are: b-blue, g-green, r-red, c-cyan, m-magenta, y-yellow, k-black, w-white. For more information, visit http://matplotlib.org/api/colors_api.html."
   ]
  },
  {
   "cell_type": "code",
   "execution_count": null,
   "metadata": {},
   "outputs": [],
   "source": [
    "# Comparing the distance covered by Mark,and Sam over an interval of time\n",
    "time = np.arange(0,50,2)\n",
    "dMark = np.array([0,20,40,59,76,93,109,125,139,152,162,172,181,189,197,205,213,220,227,233,239,243,247,251,253])\n",
    "dSam = np.array([0,25,49,71,91,110,129,150,169,188,205,222,237,249,261,271,281,290,298,306,313,320,325,329,331])\n",
    "plt.plot(time,dMark,'b*',label='Mark')\n",
    "plt.plot(time,dSam,'r*',label='Sam')\n",
    "plt.xlabel('Time in minutes')\n",
    "plt.ylabel('Distance covered in metres')\n",
    "plt.legend(loc='upper left')\n",
    "plt.xlim(0,50)\n",
    "plt.ylim(0,350)\n",
    "plt.show()"
   ]
  },
  {
   "cell_type": "markdown",
   "metadata": {},
   "source": [
    "## Scatter Plots"
   ]
  },
  {
   "cell_type": "code",
   "execution_count": null,
   "metadata": {},
   "outputs": [],
   "source": [
    "# Making a scatter plot from random distributions \n",
    "x = np.arange(20)\n",
    "y = np.random.rand(20)\n",
    "z = np.random.rand(20)\n",
    "plt.scatter(x,y,s=50,facecolor='b',edgecolor='k',alpha=0.5,marker='d',label='Battlefield1')\n",
    "plt.scatter(x,z,s=120,facecolor='r',edgecolor='k',alpha=0.3,marker='d',label='Battlefield2')\n",
    "plt.legend(loc='upper left')\n",
    "plt.ylim(-0.2,1.2)\n",
    "plt.show()"
   ]
  },
  {
   "cell_type": "code",
   "execution_count": null,
   "metadata": {},
   "outputs": [],
   "source": [
    "N = 10\n",
    "data = np.random.random((10,4))\n",
    "labels = ['{0}'.format(i) for i in range(N)]\n",
    "plt.subplots_adjust(bottom = 0.1)\n",
    "plt.scatter(\n",
    "    data[:, 0], data[:, 1], marker = 'o', c = data[:, 2], s = data[:, 3]*1500,\n",
    "    cmap = plt.get_cmap('cool'))\n",
    "\n",
    "for label, x, y in zip(labels, data[:, 0], data[:, 1]):\n",
    "    plt.annotate(label, xy = (x, y), xytext = (-10, 10),\n",
    "        textcoords = 'offset points', ha = 'right', va = 'bottom',\n",
    "        bbox=dict(boxstyle='round,pad=0.3',fc='red', alpha=0.4),arrowprops = dict(arrowstyle = '->', connectionstyle = 'arc3,rad=0'))\n",
    "    \n",
    "plt.show()"
   ]
  },
  {
   "cell_type": "markdown",
   "metadata": {},
   "source": [
    "## Histograms"
   ]
  },
  {
   "cell_type": "code",
   "execution_count": null,
   "metadata": {},
   "outputs": [],
   "source": [
    "from numpy.random import normal,poisson,uniform\n",
    "f, ax = plt.subplots(3)\n",
    "gaussian_numbers = normal(size=1000)\n",
    "poisson_numbers = poisson(4,1000)\n",
    "uniform_numbers = uniform(low=-2, high=2,size=1000)\n",
    "ax[0].hist(gaussian_numbers,bins=50,facecolor='b',alpha=0.7)\n",
    "ax[1].hist(poisson_numbers,bins=50,facecolor='g',alpha=0.7)\n",
    "ax[2].hist(uniform_numbers,bins=50,facecolor='r',alpha=0.7)\n",
    "ax[0].set_title(\"Gaussian Histogram\")\n",
    "ax[1].set_title(\"Poisson Histogram\")\n",
    "ax[2].set_title(\"Uniform Histogram\")\n",
    "ax[0].set_ylabel(\"Frequency\")\n",
    "ax[1].set_ylabel(\"Frequency\")\n",
    "ax[2].set_ylabel(\"Frequency\")\n",
    "plt.tight_layout()\n",
    "plt.show()"
   ]
  },
  {
   "cell_type": "markdown",
   "metadata": {},
   "source": [
    "When we increase the value for lambda in the poisson distribution, the histrogram approaches the shape of the gaussion. Give it a try!"
   ]
  },
  {
   "cell_type": "markdown",
   "metadata": {},
   "source": [
    "Now let us merge the gaussian and uniform distribution since their values lie in the same range."
   ]
  },
  {
   "cell_type": "code",
   "execution_count": null,
   "metadata": {},
   "outputs": [],
   "source": [
    "plt.hist(gaussian_numbers,bins=20,facecolor='b',alpha=0.7,histtype='stepfilled', normed=True,label='Gaussian')\n",
    "plt.hist(uniform_numbers,bins=20,facecolor='r',alpha=0.5,histtype='stepfilled', normed=True,label='Uniform')\n",
    "plt.title(\"Gaussian/Uniform Histogram\")\n",
    "plt.xlabel(\"Value\")\n",
    "plt.ylabel(\"Frequency\")\n",
    "plt.legend()\n",
    "plt.show()"
   ]
  },
  {
   "cell_type": "markdown",
   "metadata": {},
   "source": [
    "## Bar Charts"
   ]
  },
  {
   "cell_type": "code",
   "execution_count": null,
   "metadata": {},
   "outputs": [],
   "source": [
    "# Showing the average percentage scores success for the past 5 years at Hudson Park Primary School by each gender\n",
    "MScores = [72.2,78.9,75.3,80,81.4]\n",
    "FScores = [77.2,80.9,78.1,84,86.2]\n",
    "MStd = [3,5,4,3,5]\n",
    "FStd = [5,4,3,6,4]\n",
    "ind = np.arange(5)\n",
    "year = ['2009','2010','2011','2012','2013','2014']\n",
    "plt.bar(ind,MScores,width=0.3,color='y',yerr=MStd,edgecolor='r',linewidth=2,label='Male')\n",
    "plt.bar(ind+0.3,FScores,width=0.3,color='c',yerr=FStd,edgecolor='r',linewidth=2,label='Female')\n",
    "plt.xticks(ind,year,rotation=45)\n",
    "plt.title(\"Average passing rate for past 5 years\")\n",
    "plt.ylabel(\"Percentage Success ($\\%$)\")\n",
    "plt.ylim(0,120)\n",
    "plt.legend()\n",
    "plt.show()"
   ]
  },
  {
   "cell_type": "markdown",
   "metadata": {},
   "source": [
    "# SciPy Module"
   ]
  },
  {
   "cell_type": "markdown",
   "metadata": {},
   "source": [
    "SciPy is an extension of the Numpy package. It is collection of mathematical algorithms. Here we will have a look at the complex scipy functions that are not availble in the Numpy package. Similar to numpy, we need to import scipy."
   ]
  },
  {
   "cell_type": "code",
   "execution_count": null,
   "metadata": {},
   "outputs": [],
   "source": [
    "import scipy"
   ]
  },
  {
   "cell_type": "markdown",
   "metadata": {},
   "source": [
    "## Numerical Integration and ODEs"
   ]
  },
  {
   "cell_type": "markdown",
   "metadata": {},
   "source": [
    "Suppose we want to compute the integral\n",
    "\\begin{equation}\n",
    "I = \\int_0^1 2e^{-2\\pi i t}~dx.\n",
    "\\end{equation}\n",
    "First, we need to import the function quad from a sub-module in scipy."
   ]
  },
  {
   "cell_type": "code",
   "execution_count": null,
   "metadata": {},
   "outputs": [],
   "source": [
    "from scipy.integrate import quad\n",
    "quad(lambda t:2*np.exp(-2*1j*np.pi*t),0,1)"
   ]
  },
  {
   "cell_type": "markdown",
   "metadata": {},
   "source": [
    "The result is 8.326672684688674e-17 and the second value is the error associated with the computation."
   ]
  },
  {
   "cell_type": "markdown",
   "metadata": {},
   "source": [
    "Consider the following ordinary differential equation (ode):\n",
    "    \\begin{equation}\n",
    "    y = \\frac{dy}{dt}.\n",
    "    \\end{equation}\n",
    "The initial condition is 1 and the points over which the ode needs to be solved is 10."
   ]
  },
  {
   "cell_type": "code",
   "execution_count": null,
   "metadata": {},
   "outputs": [],
   "source": [
    "from scipy.integrate import odeint\n",
    "odeint(lambda y, t: y, 1, np.linspace(0,1,10))"
   ]
  },
  {
   "cell_type": "markdown",
   "metadata": {},
   "source": [
    "## Interpolation"
   ]
  },
  {
   "cell_type": "markdown",
   "metadata": {},
   "source": [
    "There are in-built functions in scipy that allow us to perform univariate and multivariate interpolation easily."
   ]
  },
  {
   "cell_type": "code",
   "execution_count": null,
   "metadata": {},
   "outputs": [],
   "source": [
    "from scipy import interpolate\n",
    "x = np.arange(4, 20,)\n",
    "y = np.exp(-x/3.0)\n",
    "f = interpolate.interp1d(x, y) # interpolating a 1D function\n",
    "\n",
    "xnew = np.linspace(4,19,1000)\n",
    "plt.plot(x,y,'ro',label='data point')\n",
    "plt.plot(xnew,f(xnew),'g--',label='interpolated') # f(xnew) gives the interpolated points\n",
    "plt.legend()\n",
    "plt.show()\n"
   ]
  },
  {
   "cell_type": "markdown",
   "metadata": {},
   "source": [
    "Next, we are going to do a univariate spline interpolation. Spline interpolation is a special type of piecewise function which is continuous at the intervals and at the interpolating nodes."
   ]
  },
  {
   "cell_type": "code",
   "execution_count": null,
   "metadata": {},
   "outputs": [],
   "source": [
    "from scipy.interpolate import UnivariateSpline\n",
    "x = np.linspace(-4, 4, 100)\n",
    "y = np.sin(x**2) + np.random.randn(100)/10\n",
    "s = UnivariateSpline(x, y, s=1)\n",
    "xnew = np.linspace(-4, 4, 1000)\n",
    "plt.plot(x, y, '.',label='data points')\n",
    "plt.plot(xnew, s(xnew),'g',label='spline interpolated')\n",
    "plt.ylim(-1.5,2.0)\n",
    "plt.legend()\n",
    "plt.show()    "
   ]
  },
  {
   "cell_type": "markdown",
   "metadata": {},
   "source": [
    "# Fast Fourier Transform (FFT)"
   ]
  },
  {
   "cell_type": "markdown",
   "metadata": {},
   "source": [
    "A fast Fourier transform (FFT) is an algorithm to compute the discrete Fourier transform (DFT) and its inverse. The fft function in numpy computes the 1-dimensional fourier transform of n discrete points."
   ]
  },
  {
   "cell_type": "markdown",
   "metadata": {},
   "source": [
    "Let us compute the Fourier inverse of $f(t)=2cos(t)$.\n",
    "\\begin{equation}\n",
    "f(t) = \\int_{-\\infty}^{\\infty} f(t)e^{-2 \\pi i t}\n",
    "\\end{equation}"
   ]
  },
  {
   "cell_type": "code",
   "execution_count": null,
   "metadata": {},
   "outputs": [],
   "source": [
    "t = np.arange(100)\n",
    "sp = np.fft.fft(np.cos(2*t))\n",
    "freq = np.fft.fftfreq(t.shape[0])\n",
    "plt.plot(freq, sp.real,label='real') # frequency bins\n",
    "plt.plot(freq,sp.imag,label='imaginary')\n",
    "plt.legend()\n",
    "plt.show()"
   ]
  },
  {
   "cell_type": "code",
   "execution_count": null,
   "metadata": {},
   "outputs": [],
   "source": [
    "# 2-dimensional FFT\n",
    "a = np.mgrid[0:4, 0:4][0]\n",
    "np.fft.fft2(a)"
   ]
  },
  {
   "cell_type": "markdown",
   "metadata": {},
   "source": [
    "# Curve Fitting"
   ]
  },
  {
   "cell_type": "markdown",
   "metadata": {},
   "source": [
    "Curve fitting is very commom when dealing with astronomical data. The most popular fiiting algorithm is least squares, but we are going to get acquainted to other ways as well."
   ]
  },
  {
   "cell_type": "code",
   "execution_count": null,
   "metadata": {},
   "outputs": [],
   "source": [
    "x = np.arange(10)\n",
    "y = np.array([0.2,0.3,0.5,0.8,0.95,0.9,0.7,0.5,0.3,0.1])\n",
    "# constructing polynomial\n",
    "z = np.polyfit(x,y,3)\n",
    "p = np.poly1d(z)\n",
    "\n",
    "#generting new x's and y's\n",
    "xnew = np.linspace(x[0],x[-1],30)\n",
    "ynew = p(xnew)\n",
    "\n",
    "plt.plot(x,y,'go')\n",
    "plt.plot(xnew,ynew,'r-')\n",
    "plt.show()"
   ]
  },
  {
   "cell_type": "code",
   "execution_count": null,
   "metadata": {},
   "outputs": [],
   "source": [
    "# using least square to fit a straight line\n",
    "x = np.arange(10)\n",
    "y = np.array([1.2,1.0,0.95,0.9,0.8,0.7,0.5,0.3,0.1,0.09])\n",
    "\n",
    "A = np.vstack([x, np.ones(len(x))]).T\n",
    "m, c = np.linalg.lstsq(A, y)[0]\n",
    "plt.plot(x,y,'bo')\n",
    "plt.plot(x,m*x+c,'r-')\n",
    "plt.show()"
   ]
  },
  {
   "cell_type": "markdown",
   "metadata": {},
   "source": [
    "Another way of fitting data is curve_fit found in scipy library."
   ]
  },
  {
   "cell_type": "code",
   "execution_count": null,
   "metadata": {},
   "outputs": [],
   "source": [
    "from scipy.optimize import curve_fit\n",
    "\n",
    "# Defining the function to be fit to the data\n",
    "def fitFunc(x,m,c):\n",
    "    return m*x + c\n",
    "\n",
    "\n",
    "params, cov = curve_fit(fitFunc, x, y) # returns the fitting paramters\n",
    "\n",
    "plt.plot(x,y,'go')\n",
    "plt.plot(x,fitFunc(x,*params),'r-')\n",
    "plt.show()"
   ]
  },
  {
   "cell_type": "markdown",
   "metadata": {},
   "source": [
    "This cheat sheet walks us through the basics of numpy, scipy and matplotlib libraries. For more details, have a look at\n",
    "http://docs.scipy.org/doc ."
   ]
  },
  {
   "cell_type": "markdown",
   "metadata": {},
   "source": [
    "### COMPLETED!"
   ]
  },
  {
   "cell_type": "code",
   "execution_count": null,
   "metadata": {},
   "outputs": [],
   "source": []
  }
 ],
 "metadata": {
  "kernelspec": {
   "display_name": "Python 2",
   "language": "python",
   "name": "python2"
  },
  "language_info": {
   "codemirror_mode": {
    "name": "ipython",
    "version": 2
   },
   "file_extension": ".py",
   "mimetype": "text/x-python",
   "name": "python",
   "nbconvert_exporter": "python",
   "pygments_lexer": "ipython2",
   "version": "2.7.16"
  }
 },
 "nbformat": 4,
 "nbformat_minor": 1
}
